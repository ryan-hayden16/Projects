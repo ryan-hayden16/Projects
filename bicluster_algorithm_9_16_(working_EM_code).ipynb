{
  "nbformat": 4,
  "nbformat_minor": 0,
  "metadata": {
    "colab": {
      "provenance": [],
      "authorship_tag": "ABX9TyP3bD+aubsaRU+Z/MwGFTxm",
      "include_colab_link": true
    },
    "kernelspec": {
      "name": "python3",
      "display_name": "Python 3"
    },
    "language_info": {
      "name": "python"
    }
  },
  "cells": [
    {
      "cell_type": "markdown",
      "metadata": {
        "id": "view-in-github",
        "colab_type": "text"
      },
      "source": [
        "<a href=\"https://colab.research.google.com/github/ryan-hayden16/Projects/blob/main/bicluster_algorithm_9_16_(working_EM_code).ipynb\" target=\"_parent\"><img src=\"https://colab.research.google.com/assets/colab-badge.svg\" alt=\"Open In Colab\"/></a>"
      ]
    },
    {
      "cell_type": "markdown",
      "source": [
        "Preliminary steps"
      ],
      "metadata": {
        "id": "ACb79dw-HJBI"
      }
    },
    {
      "cell_type": "code",
      "source": [
        "# imports and installs\n",
        "!pip install scanpy # tools for scRNA-seq analysis\n",
        "!pip install matplotlib==3.1.3 # current version produces error w/ scanpy\n",
        "!pip install sklearn # tools for general data analysis\n",
        "\n",
        "import pandas as pd\n",
        "import numpy as np\n",
        "import scanpy as sc\n",
        "import sklearn\n",
        "import matplotlib.pyplot as plt\n",
        "import math\n",
        "from sklearn import metrics\n",
        "from sklearn.preprocessing import StandardScaler\n",
        "from scipy.stats import poisson\n",
        "import copy\n",
        "\n",
        "\n",
        "!pip install matplotlib==3.1.3 # reinstall to force old package version"
      ],
      "metadata": {
        "id": "T5mtH5zxGoPv"
      },
      "execution_count": null,
      "outputs": []
    },
    {
      "cell_type": "markdown",
      "source": [
        "Load data (and metadata, if available)"
      ],
      "metadata": {
        "id": "iTTW7u9ajXjl"
      }
    },
    {
      "cell_type": "markdown",
      "source": [
        "Quality control of raw data (optional)"
      ],
      "metadata": {
        "id": "loEAml3ujeA2"
      }
    },
    {
      "cell_type": "markdown",
      "source": [
        "Extract count matrix from raw data"
      ],
      "metadata": {
        "id": "EcPf1JCnjp82"
      }
    },
    {
      "cell_type": "markdown",
      "source": [
        "\n",
        "Define known variables, ie: C,G,K,L"
      ],
      "metadata": {
        "id": "490RutdYSQMf"
      }
    },
    {
      "cell_type": "markdown",
      "source": [
        "# how to simulate data\n",
        "\n",
        "step 1: set pi and rho (to be something like uniform, ie: pi=(1/3, 1/3, 1/3))\n",
        "then use pi and rho to generate Z and W according to pi and rho\n",
        "ie: Z ~ multinoulli(1,pi) , etc..\n",
        "then convert Z_i to a classification row in S\n",
        "same for T\n",
        "#arbitrarily fix: S, T ( ?? its set from procedure in above line)\n",
        "set mu to have some cluster structure: ie: diagonal large, everything else small\n",
        "ie; K=3, L=4, 1's on diagonal, see screenshot, in each row and column want one value to dominate\n",
        "#then set pi and rho (?? set in step 1 above)\n",
        "then generate X given S,T, mu\n",
        "then try to recover S and T (ie: estimated S and T) using my code on generated X\n",
        "then convert estimated S and T back into (estimated) Z and W\n",
        "then you can adjusted rand index to compare accuracy of estimated Z,W with true Z and W from step 1 above \n",
        "\n",
        "\n",
        "#this is simulating using our model"
      ],
      "metadata": {
        "id": "TynpYvZgAr8f"
      }
    },
    {
      "cell_type": "code",
      "source": [
        "# generate fake count data (0 to 100 counts) for testing code\n",
        "import random\n",
        "\n",
        "C=20\n",
        "G=25\n",
        "K=5\n",
        "L=3\n",
        "X=np.zeros((C,G))\n",
        "for c in range(C):\n",
        "  for g in range(G):\n",
        "    X[c,g]=random.randint(0,10)"
      ],
      "metadata": {
        "id": "pdFMKUiFsDJ9"
      },
      "execution_count": 18,
      "outputs": []
    },
    {
      "cell_type": "code",
      "source": [
        "X"
      ],
      "metadata": {
        "id": "BX589sUcSuje",
        "colab": {
          "base_uri": "https://localhost:8080/"
        },
        "outputId": "0c7050f9-bdb8-40c9-8150-039d4eba20e3"
      },
      "execution_count": 19,
      "outputs": [
        {
          "output_type": "execute_result",
          "data": {
            "text/plain": [
              "array([[ 2.,  1.,  5.,  1.,  9.,  4.,  9.,  2.,  2.,  4., 10.,  9., 10.,\n",
              "         8.,  4.,  3.,  9.,  6.,  8.,  0.,  8.,  6.,  9.,  9.,  1.],\n",
              "       [ 3.,  6.,  1.,  1.,  5.,  3.,  8., 10.,  6.,  0.,  1.,  3.,  0.,\n",
              "         8., 10.,  6.,  0.,  2.,  8.,  3.,  1.,  1.,  0., 10.,  8.],\n",
              "       [ 3.,  4.,  6., 10.,  7.,  9.,  3.,  7., 10.,  4.,  4.,  9.,  7.,\n",
              "         7.,  5., 10.,  5.,  5.,  2.,  1.,  9.,  9.,  0.,  8.,  4.],\n",
              "       [ 2.,  0.,  2.,  8.,  8.,  3., 10., 10.,  2.,  8.,  8.,  2.,  3.,\n",
              "         0., 10.,  8.,  7.,  8.,  1.,  6.,  8.,  6.,  9.,  7.,  1.],\n",
              "       [ 0., 10.,  2.,  7.,  3.,  7.,  4.,  6.,  6.,  5.,  5.,  8.,  4.,\n",
              "        10.,  9., 10.,  4.,  8.,  5., 10.,  3.,  8.,  6.,  8.,  0.],\n",
              "       [ 9.,  4.,  5.,  8.,  9.,  0., 10., 10.,  4.,  9.,  1.,  5.,  5.,\n",
              "         9.,  3.,  8.,  8.,  1.,  2.,  3.,  7.,  9.,  0.,  2.,  3.],\n",
              "       [ 0.,  0., 10.,  8., 10.,  1.,  7.,  4.,  1.,  0., 10., 10.,  2.,\n",
              "        10., 10.,  1.,  5.,  1., 10.,  7.,  7.,  2.,  8.,  8.,  1.],\n",
              "       [ 7.,  6.,  4.,  6.,  1.,  8., 10.,  9.,  5.,  6.,  2.,  7.,  3.,\n",
              "        10.,  9.,  4.,  3.,  2.,  1.,  8.,  8.,  0.,  4.,  5.,  6.],\n",
              "       [ 3.,  8.,  1.,  6.,  3.,  8.,  5.,  6.,  2.,  9.,  0.,  2.,  7.,\n",
              "         2.,  2.,  2.,  4.,  2.,  1.,  8.,  9.,  5.,  1.,  2., 10.],\n",
              "       [ 8.,  4.,  3.,  6.,  4.,  4.,  6.,  6.,  5.,  3.,  1.,  5.,  0.,\n",
              "         5.,  3.,  0.,  1.,  7.,  6.,  7.,  8.,  5., 10.,  4.,  9.],\n",
              "       [10.,  5.,  4.,  5.,  6.,  8., 10., 10., 10., 10., 10.,  5.,  6.,\n",
              "         5.,  0.,  7.,  6.,  5.,  4.,  1.,  9.,  4.,  2.,  0.,  3.],\n",
              "       [ 9.,  7.,  8.,  5.,  3.,  4.,  4.,  4.,  5.,  9.,  5.,  3.,  9.,\n",
              "        10.,  0.,  9.,  5.,  4.,  6.,  2.,  4., 10.,  8.,  9.,  2.],\n",
              "       [ 7.,  9.,  0.,  1.,  7.,  0.,  1.,  0.,  5.,  5.,  8.,  0.,  9.,\n",
              "         3.,  1.,  0.,  1.,  6.,  9.,  2.,  6., 10., 10.,  3.,  2.],\n",
              "       [10.,  4.,  7.,  1.,  7.,  8.,  6.,  1.,  5.,  3., 10.,  5.,  1.,\n",
              "         2.,  6.,  5.,  5.,  8.,  1.,  9.,  7.,  2.,  4.,  9.,  7.],\n",
              "       [ 1.,  2., 10.,  4.,  2.,  5.,  2., 10.,  8.,  3.,  6.,  8.,  2.,\n",
              "         7.,  7.,  6.,  1.,  7.,  6.,  3.,  5.,  7.,  3., 10., 10.],\n",
              "       [ 6.,  4.,  8.,  7.,  0.,  7.,  9., 10.,  8.,  1.,  4.,  1.,  7.,\n",
              "         0.,  2.,  4.,  3.,  3.,  8.,  3.,  2.,  8.,  8., 10.,  7.],\n",
              "       [ 2.,  1.,  3., 10.,  3.,  4.,  0., 10.,  5.,  2.,  8., 10.,  9.,\n",
              "        10.,  1.,  6.,  7.,  1.,  8.,  9.,  9.,  5.,  9.,  0.,  4.],\n",
              "       [ 7.,  8., 10.,  8.,  2.,  9.,  3.,  6.,  4.,  0.,  3.,  3.,  3.,\n",
              "         4.,  4.,  4.,  5., 10.,  6.,  7.,  5.,  6.,  4.,  2.,  0.],\n",
              "       [ 4.,  7.,  8.,  1., 10.,  3.,  5.,  1.,  1.,  6., 10.,  1., 10.,\n",
              "         2.,  7.,  4.,  1.,  7.,  5.,  8.,  6.,  9.,  5.,  5.,  9.],\n",
              "       [ 4.,  6., 10.,  3.,  8.,  3.,  9.,  8.,  5.,  4.,  4.,  5.,  3.,\n",
              "        10.,  9., 10., 10.,  5.,  3.,  9.,  1.,  1.,  1.,  3.,  4.]])"
            ]
          },
          "metadata": {},
          "execution_count": 19
        }
      ]
    },
    {
      "cell_type": "markdown",
      "source": [
        "Initialize S and T variables"
      ],
      "metadata": {
        "id": "dhO_yZPhkG5h"
      }
    },
    {
      "cell_type": "code",
      "source": [
        "# initialize S\n",
        "import scipy as sp\n",
        "from numpy import linalg as LA\n",
        "from scipy.linalg import sqrtm\n",
        "from numpy.linalg import inv\n",
        "from sklearn.preprocessing import normalize\n",
        "from sklearn.cluster import KMeans\n",
        "\n",
        "\n",
        "A=np.dot(X,np.transpose(X)) #step 1 (affinity matrix, simple version)\n",
        "\n",
        "D=np.zeros((C,C))\n",
        "for i in range(C):\n",
        "  D[i,i] = sum(A[i,:]) #step 2.a (graph laplacian)\n",
        "\n",
        "E=np.zeros((C,C)) # now take square root of diagonal matrices manually (see below)\n",
        "\n",
        "for i in range(C):\n",
        "  E[i,i] = math.sqrt(D[i,i]) # done manually to avoid possible errors with sqrtm function\n",
        "\n",
        "# note that np.dot(E,E)==D returns a few falses, possibly because of numerical error? should be identical (this is still true even after manually taking square roots)\n",
        "\n",
        "F=np.zeros((C,C))\n",
        "for i in range(C):\n",
        "  F[i,i] = (1/E[i,i]) # just take inverse of diagonal elements to avoid matrix operation related errors\n",
        "\n",
        "H=np.dot(F,np.dot(A,F)) #step 2.b (graph laplacian)\n",
        "\n",
        "# note that H==np.transpose(H) returns some falses, ie: not symmetric yet we get all real eigenvalues here\n",
        "\n",
        "w, v = LA.eig(H) #step 3 (find K largest (orthogonal) eigenvectors of H and form a CxK matrix with them) and normalize the matrix\n",
        "ordered_eigval=np.argsort(w) # returns indexes of ordered (small to large) of w (eigenvalue list)\n",
        "k_large_eigval = ordered_eigval[-K:] # returns indexes of K largest eigvals\n",
        "k_large_eigvec=np.transpose(v[k_large_eigval]) # returns corresponding K largest eigvecs, as a CxK ndarray\n",
        "complex_k_large_eigvec=np.array(k_large_eigvec, dtype = 'complex_') # convert to complex valued matrix? does not fix error\n",
        "e=LA.norm(complex_k_large_eigvec, axis=1) #\n",
        "for n in range(C):\n",
        "  complex_k_large_eigvec[n,:]=complex_k_large_eigvec[n,:]/e[n]\n",
        "Y=complex_k_large_eigvec\n",
        "B=Y.real \n",
        "\n",
        "\n",
        "#step 5 (treat each of the C rows of the matrix as a K-dim vector and cluster into K-clusters, via K-means)\n",
        "kmeans = KMeans(n_clusters=K, random_state=0).fit(B)\n",
        "cluster_labels = kmeans.labels_\n",
        "\n",
        "#step 6 (assign/label each of the C cells into the corresponding cluster (ie: labels are 1,2,...,K) from step 5)\n",
        "S=np.zeros((C,K))\n",
        "for i in range(C):\n",
        "  for j in range(K):\n",
        "    if cluster_labels[i]==j:\n",
        "      S[i,j]=1\n",
        "#(each cell now has a label from 1,...,K, so we can then form the CxK classification matrix (ie: matrix S) that we want)\n",
        "\n",
        "\n",
        "# this process gives us S_0\n",
        "\n",
        "# THIS CODE IS FINISHED AND HAS BEEN CHECKED TO BE WORKING PROPERLY"
      ],
      "metadata": {
        "id": "FyVuZx30S9o1"
      },
      "execution_count": 20,
      "outputs": []
    },
    {
      "cell_type": "code",
      "source": [
        "S"
      ],
      "metadata": {
        "id": "xweJDcYG7wgt",
        "colab": {
          "base_uri": "https://localhost:8080/"
        },
        "outputId": "bfb7bf55-7491-4a05-d41c-dfd8b6812645"
      },
      "execution_count": 21,
      "outputs": [
        {
          "output_type": "execute_result",
          "data": {
            "text/plain": [
              "array([[1., 0., 0., 0., 0.],\n",
              "       [0., 0., 0., 0., 1.],\n",
              "       [0., 0., 1., 0., 0.],\n",
              "       [0., 0., 0., 0., 1.],\n",
              "       [0., 0., 1., 0., 0.],\n",
              "       [0., 1., 0., 0., 0.],\n",
              "       [0., 0., 0., 1., 0.],\n",
              "       [0., 0., 0., 0., 1.],\n",
              "       [1., 0., 0., 0., 0.],\n",
              "       [0., 1., 0., 0., 0.],\n",
              "       [1., 0., 0., 0., 0.],\n",
              "       [0., 0., 1., 0., 0.],\n",
              "       [1., 0., 0., 0., 0.],\n",
              "       [0., 0., 0., 0., 1.],\n",
              "       [0., 0., 0., 0., 1.],\n",
              "       [0., 1., 0., 0., 0.],\n",
              "       [1., 0., 0., 0., 0.],\n",
              "       [0., 0., 1., 0., 0.],\n",
              "       [0., 0., 0., 1., 0.],\n",
              "       [0., 0., 0., 1., 0.]])"
            ]
          },
          "metadata": {},
          "execution_count": 21
        }
      ]
    },
    {
      "cell_type": "code",
      "source": [
        "# initialize T\n",
        "\n",
        "T=np.zeros((G,K,L))\n",
        "\n",
        "for i in range(K):\n",
        "  XT=X\n",
        "  XT=np.delete(XT,np.where(cluster_labels!=i),0) #now XT should only contain rows with label i\n",
        "  A=np.dot(np.transpose(XT),XT) #step 1 (affinity matrix, simple version)\n",
        "  D=np.zeros((G,G))\n",
        "  for l in range(G):\n",
        "    D[l,l] = sum(A[:,l]) #step 2.a (graph laplacian)\n",
        "  E=np.zeros((G,G)) # now take square root of diagonal matrices manually (see below)\n",
        "  for l in range(G):\n",
        "    E[l,l] = math.sqrt(D[l,l])\n",
        "  F=inv(E) # read above, do element wise as opposed to matrix wise operation\n",
        "  F=np.zeros((G,G))\n",
        "  for l in range(G):\n",
        "    F[l,l] = (1/E[l,l]) # just take inverse of diagonal elements to avoid matrix operation related errors\n",
        "  H=np.dot(F,np.dot(A,F)) \n",
        "\n",
        "  # maybe force H to be symmetric\n",
        "\n",
        "# H should be symmetric, so shouldnt even have complex eigenvectors\n",
        "\n",
        "  w, v = LA.eig(H) #step 3 (find K largest (orthogonal) eigenvectors of H and form a GxK matrix with them) and normalize the matrix\n",
        "  ordered_eigval=np.argsort(w) # returns indexes of ordered (small to large) of w (eigenvalue list)\n",
        "  k_large_eigval = ordered_eigval[-K:] # returns indexes of K largest eigvals\n",
        "  k_large_eigvec=np.transpose(v[k_large_eigval]) # returns corresponding K largest eigvecs, as a GxK ndarray\n",
        "  complex_k_large_eigvec=np.array(k_large_eigvec, dtype = 'complex_') # convert to complex valued matrix? does not fix error\n",
        "  e=LA.norm(complex_k_large_eigvec, axis=1) #\n",
        "  for n in range(C):\n",
        "    complex_k_large_eigvec[n,:]=complex_k_large_eigvec[n,:]/e[n]\n",
        "  Y=complex_k_large_eigvec\n",
        "  B=Y.real # possible solution: just consider real part (do this in S initialization as well)\n",
        "  # whatever solution is, apply to S initialization as well in case its eigenvalues are complex\n",
        "  #try dividing each vector in k_large_eigvec by the corresponding value in LA.norm(k_large_eigvec), ie manually scale to unit vector\n",
        "  # Y = normalize(complex_k_large_eigvec, axis=1, norm='l2') #normalize rows of the GxK matrix (CAUSES ERROR DUE TO COMPLEX NUMBERS)\n",
        "  #step 5 (treat each of the C rows of the matrix as a K-dim vector and cluster into K-clusters, via K-means)\n",
        "  #above solution seemed to work, but no error is in k-means\n",
        "\n",
        "# ASK YUNPENG HOW TO DEAL WITH K-MEANS IF VECTORS ARE COMPLEX VALUED ??? MAYBE JUST DROP IMAGINARY PART? OR TAKE MAGNITUDE? ITS ONLY AN INITIAL GUESS FOR S\n",
        "\n",
        "  kmeans = KMeans(n_clusters=L, random_state=0).fit(B)\n",
        "  Tcluster_labels = kmeans.labels_\n",
        "  #step 6 (assign/label each of the C cells into the corresponding cluster (ie: labels are 1,2,...,K) from step 5)\n",
        "  for g in range(G):\n",
        "    for l in range(L):\n",
        "      if Tcluster_labels[g]==l:\n",
        "        T[g,i,l]=1\n",
        "\n",
        "# ALSO MAKE SURE TO SWAP TRANSPOSE ORDER SO ITS NOW GxG AFFINITY MATRIX, AND SWAP WHEREVER ELSE NECCESARY, IE NOW K-MEANS ON COLUMNS AND NORMALIZE COLUMNS, ETC...\n"
      ],
      "metadata": {
        "id": "Amxm1NYR-Q9T"
      },
      "execution_count": 22,
      "outputs": []
    },
    {
      "cell_type": "markdown",
      "source": [
        "# why is T initialzation code causing error when G is smaller then C ????"
      ],
      "metadata": {
        "id": "lYf4frpbA0lz"
      }
    },
    {
      "cell_type": "code",
      "source": [
        "T"
      ],
      "metadata": {
        "id": "XgVjn03OZSOH",
        "colab": {
          "base_uri": "https://localhost:8080/"
        },
        "outputId": "0c016c1d-5b61-446a-f1a7-bac2a0bdb38d"
      },
      "execution_count": 23,
      "outputs": [
        {
          "output_type": "execute_result",
          "data": {
            "text/plain": [
              "array([[[1., 0., 0.],\n",
              "        [0., 0., 1.],\n",
              "        [0., 0., 1.],\n",
              "        [0., 0., 1.],\n",
              "        [1., 0., 0.]],\n",
              "\n",
              "       [[0., 0., 1.],\n",
              "        [0., 1., 0.],\n",
              "        [1., 0., 0.],\n",
              "        [0., 0., 1.],\n",
              "        [0., 0., 1.]],\n",
              "\n",
              "       [[0., 0., 1.],\n",
              "        [0., 1., 0.],\n",
              "        [1., 0., 0.],\n",
              "        [0., 0., 1.],\n",
              "        [0., 0., 1.]],\n",
              "\n",
              "       [[0., 0., 1.],\n",
              "        [1., 0., 0.],\n",
              "        [0., 1., 0.],\n",
              "        [0., 0., 1.],\n",
              "        [0., 0., 1.]],\n",
              "\n",
              "       [[0., 0., 1.],\n",
              "        [0., 1., 0.],\n",
              "        [0., 1., 0.],\n",
              "        [0., 1., 0.],\n",
              "        [1., 0., 0.]],\n",
              "\n",
              "       [[1., 0., 0.],\n",
              "        [0., 1., 0.],\n",
              "        [0., 1., 0.],\n",
              "        [1., 0., 0.],\n",
              "        [1., 0., 0.]],\n",
              "\n",
              "       [[0., 0., 1.],\n",
              "        [0., 0., 1.],\n",
              "        [0., 1., 0.],\n",
              "        [0., 1., 0.],\n",
              "        [1., 0., 0.]],\n",
              "\n",
              "       [[0., 1., 0.],\n",
              "        [1., 0., 0.],\n",
              "        [0., 1., 0.],\n",
              "        [0., 1., 0.],\n",
              "        [0., 1., 0.]],\n",
              "\n",
              "       [[1., 0., 0.],\n",
              "        [0., 0., 1.],\n",
              "        [0., 1., 0.],\n",
              "        [1., 0., 0.],\n",
              "        [0., 1., 0.]],\n",
              "\n",
              "       [[1., 0., 0.],\n",
              "        [0., 0., 1.],\n",
              "        [1., 0., 0.],\n",
              "        [1., 0., 0.],\n",
              "        [1., 0., 0.]],\n",
              "\n",
              "       [[1., 0., 0.],\n",
              "        [1., 0., 0.],\n",
              "        [1., 0., 0.],\n",
              "        [0., 0., 1.],\n",
              "        [1., 0., 0.]],\n",
              "\n",
              "       [[1., 0., 0.],\n",
              "        [1., 0., 0.],\n",
              "        [0., 0., 1.],\n",
              "        [0., 0., 1.],\n",
              "        [0., 1., 0.]],\n",
              "\n",
              "       [[0., 1., 0.],\n",
              "        [1., 0., 0.],\n",
              "        [0., 0., 1.],\n",
              "        [0., 0., 1.],\n",
              "        [1., 0., 0.]],\n",
              "\n",
              "       [[0., 1., 0.],\n",
              "        [1., 0., 0.],\n",
              "        [0., 1., 0.],\n",
              "        [0., 0., 1.],\n",
              "        [1., 0., 0.]],\n",
              "\n",
              "       [[1., 0., 0.],\n",
              "        [0., 1., 0.],\n",
              "        [1., 0., 0.],\n",
              "        [1., 0., 0.],\n",
              "        [1., 0., 0.]],\n",
              "\n",
              "       [[0., 1., 0.],\n",
              "        [0., 1., 0.],\n",
              "        [1., 0., 0.],\n",
              "        [1., 0., 0.],\n",
              "        [1., 0., 0.]],\n",
              "\n",
              "       [[0., 1., 0.],\n",
              "        [1., 0., 0.],\n",
              "        [0., 1., 0.],\n",
              "        [0., 0., 1.],\n",
              "        [1., 0., 0.]],\n",
              "\n",
              "       [[0., 1., 0.],\n",
              "        [1., 0., 0.],\n",
              "        [0., 1., 0.],\n",
              "        [0., 0., 1.],\n",
              "        [0., 1., 0.]],\n",
              "\n",
              "       [[0., 1., 0.],\n",
              "        [1., 0., 0.],\n",
              "        [1., 0., 0.],\n",
              "        [0., 1., 0.],\n",
              "        [0., 1., 0.]],\n",
              "\n",
              "       [[0., 1., 0.],\n",
              "        [1., 0., 0.],\n",
              "        [1., 0., 0.],\n",
              "        [0., 1., 0.],\n",
              "        [1., 0., 0.]],\n",
              "\n",
              "       [[0., 1., 0.],\n",
              "        [1., 0., 0.],\n",
              "        [1., 0., 0.],\n",
              "        [0., 0., 1.],\n",
              "        [1., 0., 0.]],\n",
              "\n",
              "       [[0., 0., 1.],\n",
              "        [1., 0., 0.],\n",
              "        [1., 0., 0.],\n",
              "        [1., 0., 0.],\n",
              "        [0., 1., 0.]],\n",
              "\n",
              "       [[0., 0., 1.],\n",
              "        [1., 0., 0.],\n",
              "        [1., 0., 0.],\n",
              "        [1., 0., 0.],\n",
              "        [0., 1., 0.]],\n",
              "\n",
              "       [[0., 0., 1.],\n",
              "        [1., 0., 0.],\n",
              "        [1., 0., 0.],\n",
              "        [1., 0., 0.],\n",
              "        [1., 0., 0.]],\n",
              "\n",
              "       [[0., 0., 1.],\n",
              "        [1., 0., 0.],\n",
              "        [1., 0., 0.],\n",
              "        [1., 0., 0.],\n",
              "        [1., 0., 0.]]])"
            ]
          },
          "metadata": {},
          "execution_count": 23
        }
      ]
    },
    {
      "cell_type": "markdown",
      "source": [
        "#now code seems to work, but clean it up, make sure no logic errors, and change S initialization code so its also able to deal with complex #'s"
      ],
      "metadata": {
        "id": "PMmQEMX1A3v3"
      }
    },
    {
      "cell_type": "markdown",
      "source": [
        "Initialize theta paramaters"
      ],
      "metadata": {
        "id": "-AO8mGGOcwDk"
      }
    },
    {
      "cell_type": "code",
      "source": [
        "# using S_0 and T_0 and X, we can directly calculate rho_0, pi_0, and mu_0\n",
        "\n",
        "#rho: use yunpeng line (12) and S_0\n",
        "rho=np.zeros(K)\n",
        "for k in range(K):\n",
        "  rho[k]=(1/C)*sum(S[:,k])\n",
        "\n",
        "#pi: use yunpeng line (13) and T_0\n",
        "pi=np.zeros((K,L))\n",
        "for k in range(K):\n",
        "  for l in range(L):\n",
        "    pi[k,l]=(1/G)*sum(T[:,k,l])\n",
        "\n",
        "\n",
        "#mu: use yunpeng line (14) and S_0, T_0, X \n",
        "mu=np.zeros((K,L))\n",
        "for k in range(K):\n",
        "  for l in range(L):\n",
        "    numer=0\n",
        "    denom=0\n",
        "    for c in range(C):\n",
        "      for g in range(G):\n",
        "        numer=numer+(S[c,k]*T[g,k,l]*X[c,g])\n",
        "        denom=denom+(S[c,k]*T[g,k,l])\n",
        "    mu[k,l]=numer/denom\n",
        "\n",
        "# double check logic of mu loop"
      ],
      "metadata": {
        "id": "50X4L91Ucyk7"
      },
      "execution_count": 24,
      "outputs": []
    },
    {
      "cell_type": "code",
      "source": [
        "rho"
      ],
      "metadata": {
        "id": "yTaLiPt4eBKx",
        "colab": {
          "base_uri": "https://localhost:8080/"
        },
        "outputId": "57d71e59-0230-4c78-de07-c1570a230ed2"
      },
      "execution_count": 25,
      "outputs": [
        {
          "output_type": "execute_result",
          "data": {
            "text/plain": [
              "array([0.25, 0.15, 0.2 , 0.15, 0.25])"
            ]
          },
          "metadata": {},
          "execution_count": 25
        }
      ]
    },
    {
      "cell_type": "code",
      "source": [
        "pi"
      ],
      "metadata": {
        "id": "wiCWgEIHeEEK",
        "colab": {
          "base_uri": "https://localhost:8080/"
        },
        "outputId": "2453b746-5d53-4289-ff22-0005896eef9d"
      },
      "execution_count": 26,
      "outputs": [
        {
          "output_type": "execute_result",
          "data": {
            "text/plain": [
              "array([[0.28, 0.36, 0.36],\n",
              "       [0.6 , 0.24, 0.16],\n",
              "       [0.52, 0.36, 0.12],\n",
              "       [0.36, 0.2 , 0.44],\n",
              "       [0.6 , 0.28, 0.12]])"
            ]
          },
          "metadata": {},
          "execution_count": 26
        }
      ]
    },
    {
      "cell_type": "code",
      "source": [
        "mu"
      ],
      "metadata": {
        "id": "nOOH3jhWeFKe",
        "colab": {
          "base_uri": "https://localhost:8080/"
        },
        "outputId": "38f73b56-eac0-409f-b7b5-f427c4768b13"
      },
      "execution_count": 27,
      "outputs": [
        {
          "output_type": "execute_result",
          "data": {
            "text/plain": [
              "array([[4.91428571, 5.62222222, 4.62222222],\n",
              "       [5.2       , 4.        , 6.5       ],\n",
              "       [5.48076923, 5.91666667, 5.41666667],\n",
              "       [4.48148148, 6.93333333, 5.48484848],\n",
              "       [5.46666667, 4.88571429, 4.13333333]])"
            ]
          },
          "metadata": {},
          "execution_count": 27
        }
      ]
    },
    {
      "cell_type": "code",
      "source": [
        "S_initial=copy.deepcopy(S)\n",
        "T_initial=copy.deepcopy(T)\n",
        "rho_initial=copy.deepcopy(rho)\n",
        "pi_initial=copy.deepcopy(pi)\n",
        "mu_initial=copy.deepcopy(mu)"
      ],
      "metadata": {
        "id": "HkvpMJI_9NPV"
      },
      "execution_count": 28,
      "outputs": []
    },
    {
      "cell_type": "code",
      "source": [
        "S_initial=S\n",
        "T_initial=T"
      ],
      "metadata": {
        "id": "lhzfQp8JIemZ"
      },
      "execution_count": 12,
      "outputs": []
    },
    {
      "cell_type": "code",
      "source": [
        "y=1\n",
        "x=y\n",
        "x+1\n",
        "y"
      ],
      "metadata": {
        "colab": {
          "base_uri": "https://localhost:8080/"
        },
        "id": "XMDnp3NqJyXA",
        "outputId": "75374eb2-e0f7-426c-9cc3-0210999be7fe"
      },
      "execution_count": 16,
      "outputs": [
        {
          "output_type": "execute_result",
          "data": {
            "text/plain": [
              "1"
            ]
          },
          "metadata": {},
          "execution_count": 16
        }
      ]
    },
    {
      "cell_type": "markdown",
      "source": [
        "Iterative maximization scheme"
      ],
      "metadata": {
        "id": "ITNRNSiPcdH8"
      }
    },
    {
      "cell_type": "code",
      "source": [
        "# EM algorithm\n",
        "\n",
        "S_old = 0 # initalize S and T\n",
        "S_new = S\n",
        "# Maybe change copy S,T code\n",
        "T_old = 0\n",
        "T_new = T\n",
        "\n",
        "epsilon_1 = .001 # convergence threshold (what is good epsilon???)\n",
        "epsilon_2 = .001 \n",
        "\n",
        "# STEP 0 outer EM loop to update S,T, and theta\n",
        "while ((np.amax(np.abs(np.subtract(S_new,S_old)))>epsilon_1) and (np.amax(np.abs(np.subtract(T_new,T_old)))>epsilon_2)):\n",
        "\n",
        "\n",
        "  # STEP 1 inner EM loop to update S, rho, mu\n",
        "  while ((np.amax(np.abs(np.subtract(S_new,S_old)))>epsilon_1)):\n",
        "\n",
        "    #S update loop\n",
        "\n",
        "    #S_old=S_new # save copy of previous S update\n",
        "    S_old=copy.deepcopy(S_new)\n",
        "    # this makes S_old point to S_new so, after S_new updated, S_old is too, hence this loop only runs once\n",
        "    # same issue fo T\n",
        "    # does deepcopy code work?\n",
        "    # maybe put counter in to count number of while loops\n",
        "\n",
        "\n",
        "\n",
        "\n",
        "    for c in range(C):\n",
        "      k_numers=np.zeros(K) # save length k vector of numer values for each k value\n",
        "      denom=0 # denom is sum of terms\n",
        "\n",
        "      for k in range(K):\n",
        "        numer=0 # numer is sum of logged terms\n",
        "        numerd=0 # calculate denominator once by summing numerators up for all k values\n",
        "\n",
        "        for g in range (G):\n",
        "          for l in range (L):\n",
        "            numer=numer+math.log(poisson.pmf(int(X[c,g]),mu[k,l]))*(T_new[g,k,l]) # log trick and normalize\n",
        "\n",
        "        numer=numer+math.log(rho[k]) # final numerator for fixed k and c\n",
        "\n",
        "        k_numers[k]=numer # save numerator associated with the fixed k for a single loop, and fixed c\n",
        "\n",
        "      # NOW AT END OF FIRST K LOOP, AND HAVE K_NUMERS, WHICH IS IN LOG FORM\n",
        "\n",
        "      # NOW CALCULATE MAX VALUE AMONG THE K NUMERATORS (FOR A FIXED C)\n",
        "      w=np.amax(k_numers)\n",
        "      for k in range(K):\n",
        "        k_numers[k]=k_numers[k]-w #\"normalize\" k_numers\n",
        "\n",
        "      denom=0\n",
        "      for k in range(K):\n",
        "        k_numers[k]=math.exp(k_numers[k])\n",
        "        denom=denom+k_numers[k]\n",
        "\n",
        "      for k in range(K):\n",
        "        S_new[c,k]=k_numers[k]/denom # this loop is done once for each c loop, and within this loop it gives k-value associated numerator\n",
        "    \n",
        "    # end S loop\n",
        "\n",
        "    for k in range(K):\n",
        "      rho[k]=(1/C)*sum(S_new[:,k]) # update rho, using updated S values\n",
        "\n",
        "    for k in range(K):\n",
        "      for l in range(L):\n",
        "        numer=0 # numer is sum of terms\n",
        "        denom=0 # denom is sum of terms\n",
        "        for c in range(C):\n",
        "          for g in range(G):\n",
        "            numer=numer+(S_new[c,k]*T_new[g,k,l]*X[c,g])\n",
        "            denom=denom+(S_new[c,k]*T_new[g,k,l])\n",
        "        mu[k,l]=numer/denom # update mu for each k and l values, using updated S and previous T values\n",
        "\n",
        "\n",
        "  # now STEP 1 is finished and S, rho, mu have been updated\n",
        "\n",
        "\n",
        "\n",
        "  # STEP 2 inner EM loop to update T, pi, mu\n",
        "  while ((np.amax(np.abs(np.subtract(T_new,T_old)))>epsilon_2)):\n",
        "\n",
        "    # T update loop\n",
        "\n",
        "    #T_old=T_new # save copy of previous T update\n",
        "    T_old=copy.deepcopy(T_new)\n",
        "    # need to fix this above line that saves previous update\n",
        "\n",
        "    for g in range(G):\n",
        "      for k in range(K):\n",
        "        l_numers=np.zeros(L) #save numerator for each l\n",
        "        denom=0 # denom is sum of terms, depends on g and k indices\n",
        "\n",
        "        for l in range(L):\n",
        "          numer=0 # numer is sum of logged terms\n",
        "          l_numerd=0 # calculate denominator once by summing numerators up for all l values\n",
        "\n",
        "          for c in range(C):\n",
        "            numer=numer+math.log(poisson.pmf(int(X[c,g]),mu[k,l]))*(S_new[c,k]) # log trick and normalize\n",
        "\n",
        "          numer=numer+math.log(pi[k,l]) # final numer for fixed k, l, and g\n",
        "\n",
        "          l_numers[l]=numer # save each numer for each k,l pair\n",
        "\n",
        "        # NOW AT END OF FIRST G,K LOOP, AND HAVE L_NUMERS, WHICH IS IN LOG FORM\n",
        "\n",
        "        # NOW CALCULATE MAX VALUE AMONG THE L NUMERATORS (FOR A FIXED G,K)\n",
        "        w=np.amax(l_numers)\n",
        "        for l in range(L):\n",
        "          l_numers[l]=l_numers[l]-w #\"normalize\" k_numers\n",
        "\n",
        "        denom=0\n",
        "        for l in range(L):\n",
        "          l_numers[l]=math.exp(l_numers[l])\n",
        "          denom=denom+l_numers[l]\n",
        "\n",
        "        for l in range(L):\n",
        "          T_new[g,k,l]=l_numers[l]/denom # this loop is done once for each c loop, and within this loop it gives k-value associated numerator\n",
        "\n",
        "    # end T loop\n",
        "\n",
        "    for k in range(K):\n",
        "      for l in range(L):\n",
        "        pi[k,l]=(1/G)*sum(T_new[:,k,l]) # update pi, using updated T values\n",
        "\n",
        "    for k in range(K):\n",
        "      for l in range(L):\n",
        "        numer=0 # numer is sum of terms\n",
        "        denom=0 # denom is sum of terms\n",
        "        for c in range(C):\n",
        "          for g in range(G):\n",
        "            numer=numer+(S_new[c,k]*T_new[g,k,l]*X[c,g])\n",
        "            denom=denom+(S_new[c,k]*T_new[g,k,l])\n",
        "        mu[k,l]=numer/denom # update mu for each k and l values, using updated T and previously updated S values\n",
        "\n",
        "\n",
        "  # now STEP 2 is finished and T, pi, mu have been updated\n",
        "\n",
        "\n",
        "# Now STEP 1 and STEP 2 have finished, NOW S, T, AND THETA HAVE ALL BEEN UPDATED THROUGH ONE ITERATION\n",
        "\n",
        "# now while loop will check convergence of S and T, if threshold met, loop will end and S and T will stop updating"
      ],
      "metadata": {
        "id": "Qw4B9l8qWuO8"
      },
      "execution_count": 29,
      "outputs": []
    },
    {
      "cell_type": "code",
      "source": [
        "# after running on simulated data, change to zero inflated poisson, then check simulated again, then run on benchmarking\n",
        "https://en.wikipedia.org/wiki/Zero-inflated_model#Zero-inflated_Poisson\n",
        "only need to add one extra parameter, which controls probability of zeros\n",
        "adding this extra parameter might change possibility of having closed form, so might need to use newton-ralphson\n",
        "(actually according to wkipedia there is closed form for MLE of zero prob parameter)\n",
        "\n",
        "\n",
        "always optimize log-likelihood because its concave\n",
        "define hessian and score, etc...\n",
        "\n",
        "then work on adding in row sums, column sums covariates, probably going to need to use newton ralphson because no closed form\n",
        "this is based on yunpengs new paper + roys recent notes"
      ],
      "metadata": {
        "id": "CPd7oh3GPGds"
      },
      "execution_count": null,
      "outputs": []
    },
    {
      "cell_type": "markdown",
      "source": [
        "# set S and T to converged values (since \"=\" works as pointer they should already be the updated values"
      ],
      "metadata": {
        "id": "M1VL3wH_BD0x"
      }
    },
    {
      "cell_type": "code",
      "source": [
        "S_initial"
      ],
      "metadata": {
        "id": "sFmwb4vs-qX7",
        "colab": {
          "base_uri": "https://localhost:8080/"
        },
        "outputId": "2e4c55b8-71ad-4655-c432-d61bef08b5c0"
      },
      "execution_count": 30,
      "outputs": [
        {
          "output_type": "execute_result",
          "data": {
            "text/plain": [
              "array([[1., 0., 0., 0., 0.],\n",
              "       [0., 0., 0., 0., 1.],\n",
              "       [0., 0., 1., 0., 0.],\n",
              "       [0., 0., 0., 0., 1.],\n",
              "       [0., 0., 1., 0., 0.],\n",
              "       [0., 1., 0., 0., 0.],\n",
              "       [0., 0., 0., 1., 0.],\n",
              "       [0., 0., 0., 0., 1.],\n",
              "       [1., 0., 0., 0., 0.],\n",
              "       [0., 1., 0., 0., 0.],\n",
              "       [1., 0., 0., 0., 0.],\n",
              "       [0., 0., 1., 0., 0.],\n",
              "       [1., 0., 0., 0., 0.],\n",
              "       [0., 0., 0., 0., 1.],\n",
              "       [0., 0., 0., 0., 1.],\n",
              "       [0., 1., 0., 0., 0.],\n",
              "       [1., 0., 0., 0., 0.],\n",
              "       [0., 0., 1., 0., 0.],\n",
              "       [0., 0., 0., 1., 0.],\n",
              "       [0., 0., 0., 1., 0.]])"
            ]
          },
          "metadata": {},
          "execution_count": 30
        }
      ]
    },
    {
      "cell_type": "code",
      "source": [
        "S"
      ],
      "metadata": {
        "colab": {
          "base_uri": "https://localhost:8080/"
        },
        "id": "rNNUsKxW8bfu",
        "outputId": "81bae9d4-e4bf-444f-a215-34310d175515"
      },
      "execution_count": 31,
      "outputs": [
        {
          "output_type": "execute_result",
          "data": {
            "text/plain": [
              "array([[2.08433831e-03, 1.97761995e-01, 8.30186087e-02, 6.80035950e-01,\n",
              "        3.70991083e-02],\n",
              "       [1.36986686e-04, 3.92295799e-02, 8.75264042e-01, 4.06711098e-03,\n",
              "        8.13022805e-02],\n",
              "       [5.58285360e-04, 2.47421555e-02, 9.51222062e-01, 3.13351466e-03,\n",
              "        2.03439825e-02],\n",
              "       [4.88942553e-05, 2.10127374e-02, 9.67395605e-01, 9.34718857e-04,\n",
              "        1.06080441e-02],\n",
              "       [6.79084035e-03, 1.67673728e-03, 9.89773699e-01, 1.18725732e-03,\n",
              "        5.71465585e-04],\n",
              "       [3.47383782e-04, 5.02709677e-01, 3.87475680e-02, 3.74683078e-01,\n",
              "        8.35122925e-02],\n",
              "       [2.31397720e-06, 2.26854593e-04, 3.03361593e-02, 9.67800605e-01,\n",
              "        1.63406725e-03],\n",
              "       [1.80066048e-04, 1.95588946e-01, 9.28505374e-02, 1.69889666e-02,\n",
              "        6.94391484e-01],\n",
              "       [5.73176519e-05, 5.00818320e-02, 1.83821686e-02, 1.66874071e-03,\n",
              "        9.29809941e-01],\n",
              "       [3.95302978e-06, 9.06229180e-01, 8.10059294e-02, 1.25712037e-02,\n",
              "        1.89734348e-04],\n",
              "       [1.74295206e-04, 9.35673427e-01, 1.76359155e-02, 4.34932866e-02,\n",
              "        3.02307568e-03],\n",
              "       [3.40533317e-04, 8.89035079e-01, 8.05688212e-02, 4.47273329e-03,\n",
              "        2.55828336e-02],\n",
              "       [2.55413363e-05, 9.60313633e-01, 8.40040705e-03, 3.05090765e-02,\n",
              "        7.51341830e-04],\n",
              "       [3.31425256e-07, 8.94756017e-03, 1.78293712e-02, 1.71976656e-03,\n",
              "        9.71502971e-01],\n",
              "       [7.96240870e-05, 2.17507853e-02, 9.77552479e-01, 4.02224790e-04,\n",
              "        2.14887211e-04],\n",
              "       [5.59970073e-07, 7.45842722e-01, 2.52768724e-01, 1.17493366e-03,\n",
              "        2.13060936e-04],\n",
              "       [9.22211435e-01, 2.49101365e-03, 1.06769216e-03, 7.42208495e-02,\n",
              "        9.00959652e-06],\n",
              "       [2.14904940e-03, 3.22727868e-03, 2.19891292e-01, 7.74302031e-01,\n",
              "        4.30348946e-04],\n",
              "       [2.72428442e-06, 4.85512696e-03, 5.54319205e-02, 1.67505249e-02,\n",
              "        9.22959703e-01],\n",
              "       [8.16798483e-03, 1.03607273e-03, 3.94604272e-01, 2.98465035e-01,\n",
              "        2.97726636e-01]])"
            ]
          },
          "metadata": {},
          "execution_count": 31
        }
      ]
    },
    {
      "cell_type": "code",
      "source": [
        "T_initial"
      ],
      "metadata": {
        "id": "PfQxhaM6_teG",
        "colab": {
          "base_uri": "https://localhost:8080/"
        },
        "outputId": "40dd5d35-edea-4121-b0ac-347cecdcd16e"
      },
      "execution_count": 32,
      "outputs": [
        {
          "output_type": "execute_result",
          "data": {
            "text/plain": [
              "array([[[1., 0., 0.],\n",
              "        [0., 0., 1.],\n",
              "        [0., 0., 1.],\n",
              "        [0., 0., 1.],\n",
              "        [1., 0., 0.]],\n",
              "\n",
              "       [[0., 0., 1.],\n",
              "        [0., 1., 0.],\n",
              "        [1., 0., 0.],\n",
              "        [0., 0., 1.],\n",
              "        [0., 0., 1.]],\n",
              "\n",
              "       [[0., 0., 1.],\n",
              "        [0., 1., 0.],\n",
              "        [1., 0., 0.],\n",
              "        [0., 0., 1.],\n",
              "        [0., 0., 1.]],\n",
              "\n",
              "       [[0., 0., 1.],\n",
              "        [1., 0., 0.],\n",
              "        [0., 1., 0.],\n",
              "        [0., 0., 1.],\n",
              "        [0., 0., 1.]],\n",
              "\n",
              "       [[0., 0., 1.],\n",
              "        [0., 1., 0.],\n",
              "        [0., 1., 0.],\n",
              "        [0., 1., 0.],\n",
              "        [1., 0., 0.]],\n",
              "\n",
              "       [[1., 0., 0.],\n",
              "        [0., 1., 0.],\n",
              "        [0., 1., 0.],\n",
              "        [1., 0., 0.],\n",
              "        [1., 0., 0.]],\n",
              "\n",
              "       [[0., 0., 1.],\n",
              "        [0., 0., 1.],\n",
              "        [0., 1., 0.],\n",
              "        [0., 1., 0.],\n",
              "        [1., 0., 0.]],\n",
              "\n",
              "       [[0., 1., 0.],\n",
              "        [1., 0., 0.],\n",
              "        [0., 1., 0.],\n",
              "        [0., 1., 0.],\n",
              "        [0., 1., 0.]],\n",
              "\n",
              "       [[1., 0., 0.],\n",
              "        [0., 0., 1.],\n",
              "        [0., 1., 0.],\n",
              "        [1., 0., 0.],\n",
              "        [0., 1., 0.]],\n",
              "\n",
              "       [[1., 0., 0.],\n",
              "        [0., 0., 1.],\n",
              "        [1., 0., 0.],\n",
              "        [1., 0., 0.],\n",
              "        [1., 0., 0.]],\n",
              "\n",
              "       [[1., 0., 0.],\n",
              "        [1., 0., 0.],\n",
              "        [1., 0., 0.],\n",
              "        [0., 0., 1.],\n",
              "        [1., 0., 0.]],\n",
              "\n",
              "       [[1., 0., 0.],\n",
              "        [1., 0., 0.],\n",
              "        [0., 0., 1.],\n",
              "        [0., 0., 1.],\n",
              "        [0., 1., 0.]],\n",
              "\n",
              "       [[0., 1., 0.],\n",
              "        [1., 0., 0.],\n",
              "        [0., 0., 1.],\n",
              "        [0., 0., 1.],\n",
              "        [1., 0., 0.]],\n",
              "\n",
              "       [[0., 1., 0.],\n",
              "        [1., 0., 0.],\n",
              "        [0., 1., 0.],\n",
              "        [0., 0., 1.],\n",
              "        [1., 0., 0.]],\n",
              "\n",
              "       [[1., 0., 0.],\n",
              "        [0., 1., 0.],\n",
              "        [1., 0., 0.],\n",
              "        [1., 0., 0.],\n",
              "        [1., 0., 0.]],\n",
              "\n",
              "       [[0., 1., 0.],\n",
              "        [0., 1., 0.],\n",
              "        [1., 0., 0.],\n",
              "        [1., 0., 0.],\n",
              "        [1., 0., 0.]],\n",
              "\n",
              "       [[0., 1., 0.],\n",
              "        [1., 0., 0.],\n",
              "        [0., 1., 0.],\n",
              "        [0., 0., 1.],\n",
              "        [1., 0., 0.]],\n",
              "\n",
              "       [[0., 1., 0.],\n",
              "        [1., 0., 0.],\n",
              "        [0., 1., 0.],\n",
              "        [0., 0., 1.],\n",
              "        [0., 1., 0.]],\n",
              "\n",
              "       [[0., 1., 0.],\n",
              "        [1., 0., 0.],\n",
              "        [1., 0., 0.],\n",
              "        [0., 1., 0.],\n",
              "        [0., 1., 0.]],\n",
              "\n",
              "       [[0., 1., 0.],\n",
              "        [1., 0., 0.],\n",
              "        [1., 0., 0.],\n",
              "        [0., 1., 0.],\n",
              "        [1., 0., 0.]],\n",
              "\n",
              "       [[0., 1., 0.],\n",
              "        [1., 0., 0.],\n",
              "        [1., 0., 0.],\n",
              "        [0., 0., 1.],\n",
              "        [1., 0., 0.]],\n",
              "\n",
              "       [[0., 0., 1.],\n",
              "        [1., 0., 0.],\n",
              "        [1., 0., 0.],\n",
              "        [1., 0., 0.],\n",
              "        [0., 1., 0.]],\n",
              "\n",
              "       [[0., 0., 1.],\n",
              "        [1., 0., 0.],\n",
              "        [1., 0., 0.],\n",
              "        [1., 0., 0.],\n",
              "        [0., 1., 0.]],\n",
              "\n",
              "       [[0., 0., 1.],\n",
              "        [1., 0., 0.],\n",
              "        [1., 0., 0.],\n",
              "        [1., 0., 0.],\n",
              "        [1., 0., 0.]],\n",
              "\n",
              "       [[0., 0., 1.],\n",
              "        [1., 0., 0.],\n",
              "        [1., 0., 0.],\n",
              "        [1., 0., 0.],\n",
              "        [1., 0., 0.]]])"
            ]
          },
          "metadata": {},
          "execution_count": 32
        }
      ]
    },
    {
      "cell_type": "code",
      "source": [
        "T"
      ],
      "metadata": {
        "colab": {
          "base_uri": "https://localhost:8080/"
        },
        "id": "mwmcYrFK7jKP",
        "outputId": "2c69462a-506c-47a6-c706-ee434fe6d9ac"
      },
      "execution_count": 33,
      "outputs": [
        {
          "output_type": "execute_result",
          "data": {
            "text/plain": [
              "array([[[7.23276038e-02, 1.18334925e-01, 8.09337471e-01],\n",
              "        [1.21741072e-01, 1.14439717e-11, 8.78258928e-01],\n",
              "        [2.21382816e-01, 3.10673169e-05, 7.78586117e-01],\n",
              "        [4.13547724e-01, 1.83956561e-01, 4.02495715e-01],\n",
              "        [8.00042759e-01, 7.07215440e-02, 1.29235697e-01]],\n",
              "\n",
              "       [[6.16475955e-02, 3.70388368e-02, 9.01313568e-01],\n",
              "        [6.58471008e-01, 1.85639059e-06, 3.41527136e-01],\n",
              "        [9.76285220e-01, 1.16743719e-02, 1.20404080e-02],\n",
              "        [6.48335960e-01, 1.10302166e-01, 2.41361874e-01],\n",
              "        [8.30249853e-01, 4.55129726e-02, 1.24237174e-01]],\n",
              "\n",
              "       [[6.88926982e-02, 3.69660112e-01, 5.61447190e-01],\n",
              "        [8.74107600e-01, 3.76520341e-04, 1.25515879e-01],\n",
              "        [9.65143852e-01, 3.15420899e-02, 3.31405811e-03],\n",
              "        [5.75973277e-05, 3.13846546e-01, 6.86095857e-01],\n",
              "        [7.38320444e-01, 1.28713799e-01, 1.32965756e-01]],\n",
              "\n",
              "       [[8.79419987e-05, 9.99819271e-01, 9.27865860e-05],\n",
              "        [7.99693247e-01, 3.90171600e-05, 2.00267736e-01],\n",
              "        [8.43444911e-01, 1.56236186e-01, 3.18903326e-04],\n",
              "        [5.08741089e-03, 3.12178867e-01, 6.82733722e-01],\n",
              "        [1.79190795e-01, 7.66934449e-01, 5.38747559e-02]],\n",
              "\n",
              "       [[6.92099983e-02, 3.63544191e-01, 5.67245811e-01],\n",
              "        [8.33726974e-01, 9.94515736e-05, 1.66173574e-01],\n",
              "        [9.72678620e-01, 2.19823419e-02, 5.33903797e-03],\n",
              "        [2.70609914e-04, 3.13748840e-01, 6.85980550e-01],\n",
              "        [8.01853050e-01, 6.91351835e-02, 1.29011766e-01]],\n",
              "\n",
              "       [[4.39941145e-02, 6.86356332e-01, 2.69649553e-01],\n",
              "        [8.98944054e-01, 1.05202794e-03, 1.00003918e-01],\n",
              "        [9.37199647e-01, 6.14734949e-02, 1.32685851e-03],\n",
              "        [4.10741980e-01, 1.84836794e-01, 4.04421226e-01],\n",
              "        [8.36092615e-01, 4.10057510e-02, 1.22901634e-01]],\n",
              "\n",
              "       [[4.79488587e-02, 9.50346186e-03, 9.42547679e-01],\n",
              "        [3.78219344e-01, 1.16415363e-08, 6.21780644e-01],\n",
              "        [8.60525140e-01, 1.39087913e-01, 3.86947435e-04],\n",
              "        [7.86328518e-04, 3.13565726e-01, 6.85647945e-01],\n",
              "        [8.63812979e-01, 2.19227186e-02, 1.14264303e-01]],\n",
              "\n",
              "       [[8.44785441e-05, 9.99827340e-01, 8.81812764e-05],\n",
              "        [4.52472250e-01, 4.62358396e-08, 5.47527704e-01],\n",
              "        [2.77411823e-02, 9.72258804e-01, 1.33368199e-08],\n",
              "        [2.26793654e-02, 3.06629476e-01, 6.70691159e-01],\n",
              "        [5.06345707e-01, 3.78526544e-01, 1.15127749e-01]],\n",
              "\n",
              "       [[1.91323782e-02, 8.93351634e-01, 8.75159879e-02],\n",
              "        [5.05569371e-01, 1.18944467e-07, 4.94430510e-01],\n",
              "        [7.70224439e-01, 2.29616560e-01, 1.59000941e-04],\n",
              "        [8.31740189e-01, 5.27726926e-02, 1.15487118e-01],\n",
              "        [1.85757867e-01, 7.58808516e-01, 5.54336177e-02]],\n",
              "\n",
              "       [[7.25233172e-02, 1.22066916e-01, 8.05409767e-01],\n",
              "        [5.27402039e-01, 1.74746588e-07, 4.72597786e-01],\n",
              "        [9.16628193e-01, 2.32908958e-03, 8.10427179e-02],\n",
              "        [9.22684391e-01, 2.42477648e-02, 5.30678445e-02],\n",
              "        [7.95390717e-01, 7.48354458e-02, 1.29773838e-01]],\n",
              "\n",
              "       [[7.94382026e-04, 9.97696550e-01, 1.50906750e-03],\n",
              "        [7.30073432e-01, 7.74848659e-06, 2.69918819e-01],\n",
              "        [9.76060643e-01, 1.56485510e-02, 8.29080554e-03],\n",
              "        [1.19347427e-03, 3.13429641e-01, 6.85376885e-01],\n",
              "        [7.57814212e-01, 1.09709973e-01, 1.32475815e-01]],\n",
              "\n",
              "       [[8.51564512e-05, 9.99825765e-01, 8.90787798e-05],\n",
              "        [9.20092993e-01, 3.89729919e-02, 4.09340146e-02],\n",
              "        [9.01824287e-01, 9.74994517e-02, 6.76261771e-04],\n",
              "        [6.97291055e-04, 3.13596063e-01, 6.85706646e-01],\n",
              "        [2.76107483e-01, 6.48484499e-01, 7.54080187e-02]],\n",
              "\n",
              "       [[2.68552861e-04, 9.99349686e-01, 3.81760919e-04],\n",
              "        [5.10307636e-01, 1.29311232e-07, 4.89692234e-01],\n",
              "        [8.05425352e-01, 9.31959154e-04, 1.93642689e-01],\n",
              "        [9.44436508e-02, 2.84086657e-01, 6.21469692e-01],\n",
              "        [6.88326385e-01, 1.79459796e-01, 1.32213819e-01]],\n",
              "\n",
              "       [[7.94414573e-05, 9.99838985e-01, 8.15734618e-05],\n",
              "        [6.84948528e-01, 3.09085193e-06, 3.15048381e-01],\n",
              "        [6.49952217e-01, 3.49984526e-01, 6.32562514e-05],\n",
              "        [7.52943859e-05, 3.13835648e-01, 6.86089057e-01],\n",
              "        [4.65137547e-01, 4.25624864e-01, 1.09237589e-01]],\n",
              "\n",
              "       [[6.18535070e-02, 3.77778656e-02, 9.00368627e-01],\n",
              "        [1.48787712e-02, 9.85020030e-01, 1.01199083e-04],\n",
              "        [1.17786942e-01, 8.82212655e-01, 4.03016636e-07],\n",
              "        [5.00486070e-03, 3.12205095e-01, 6.82790044e-01],\n",
              "        [8.22107835e-01, 5.20158940e-02, 1.25876271e-01]],\n",
              "\n",
              "       [[6.36290290e-03, 9.72428274e-01, 2.12088235e-02],\n",
              "        [8.86289879e-01, 6.05915603e-04, 1.13104206e-01],\n",
              "        [1.16868408e-01, 8.83131197e-01, 3.95388685e-07],\n",
              "        [3.21946330e-01, 2.12695153e-01, 4.65358516e-01],\n",
              "        [4.86966369e-01, 4.00602333e-01, 1.12431298e-01]],\n",
              "\n",
              "       [[2.24489068e-03, 9.92119308e-01, 5.63580097e-03],\n",
              "        [9.28368516e-01, 6.67883074e-03, 6.49526530e-02],\n",
              "        [9.27392749e-01, 2.67038866e-03, 6.99368621e-02],\n",
              "        [1.33054492e-03, 3.13384460e-01, 6.85284996e-01],\n",
              "        [3.20001417e-01, 5.95793390e-01, 8.42051933e-02]],\n",
              "\n",
              "       [[6.15065701e-02, 3.65413297e-02, 9.01952100e-01],\n",
              "        [8.49744662e-01, 1.62678509e-04, 1.50092660e-01],\n",
              "        [8.31831819e-01, 1.67886174e-01, 2.82006858e-04],\n",
              "        [8.81313598e-02, 2.86068302e-01, 6.25800339e-01],\n",
              "        [6.18800519e-01, 2.53427073e-01, 1.27772408e-01]],\n",
              "\n",
              "       [[8.00869230e-04, 9.97674424e-01, 1.52470666e-03],\n",
              "        [5.49455237e-01, 2.57711713e-07, 4.50544506e-01],\n",
              "        [9.74298893e-01, 8.98820334e-03, 1.67129036e-02],\n",
              "        [7.02806354e-04, 3.13594176e-01, 6.85703018e-01],\n",
              "        [4.07072827e-02, 9.43253217e-01, 1.60395005e-02]],\n",
              "\n",
              "       [[2.46573807e-04, 9.99410814e-01, 3.42612241e-04],\n",
              "        [8.13709229e-01, 1.61904319e-01, 2.43864518e-02],\n",
              "        [9.70216564e-01, 2.53566100e-02, 4.42682628e-03],\n",
              "        [2.85356108e-02, 3.04787542e-01, 6.66676847e-01],\n",
              "        [9.12510492e-01, 2.57487178e-03, 8.49146364e-02]],\n",
              "\n",
              "       [[2.75283939e-04, 9.99330790e-01, 3.93925937e-04],\n",
              "        [4.57215503e-01, 5.03546479e-08, 5.42784447e-01],\n",
              "        [9.69653707e-01, 2.60808294e-02, 4.26546373e-03],\n",
              "        [2.78774971e-03, 3.12912450e-01, 6.84299800e-01],\n",
              "        [8.77104933e-01, 1.45312002e-02, 1.08363866e-01]],\n",
              "\n",
              "       [[1.92470991e-02, 8.92550423e-01, 8.82024780e-02],\n",
              "        [2.20107912e-01, 3.34919966e-10, 7.79892088e-01],\n",
              "        [8.13037059e-01, 1.86729078e-01, 2.33862933e-04],\n",
              "        [8.50217803e-02, 2.87044545e-01, 6.27933674e-01],\n",
              "        [3.90286917e-01, 5.12594053e-01, 9.71190299e-02]],\n",
              "\n",
              "       [[2.71479438e-04, 9.99341480e-01, 3.87040199e-04],\n",
              "        [3.38217527e-01, 5.26408507e-09, 6.61782468e-01],\n",
              "        [9.14968176e-01, 2.28385744e-03, 8.27479668e-02],\n",
              "        [1.08291609e-02, 3.10362235e-01, 6.78808605e-01],\n",
              "        [1.48673469e-01, 8.04912762e-01, 4.64137690e-02]],\n",
              "\n",
              "       [[4.76135526e-02, 9.16766514e-03, 9.43218782e-01],\n",
              "        [8.04654971e-01, 4.43784847e-05, 1.95300650e-01],\n",
              "        [6.45575219e-02, 9.35442383e-01, 9.54329517e-08],\n",
              "        [2.32129469e-02, 3.06461604e-01, 6.70325450e-01],\n",
              "        [7.12938003e-01, 1.54161986e-01, 1.32900011e-01]],\n",
              "\n",
              "       [[4.61726662e-02, 6.64684381e-01, 2.89142953e-01],\n",
              "        [8.84104453e-01, 5.54415162e-04, 1.15341132e-01],\n",
              "        [9.72606635e-01, 7.95757195e-03, 1.94357935e-02],\n",
              "        [9.91905603e-01, 2.53819366e-03, 5.55620366e-03],\n",
              "        [9.02414491e-01, 4.76078233e-03, 9.28247262e-02]]])"
            ]
          },
          "metadata": {},
          "execution_count": 33
        }
      ]
    },
    {
      "cell_type": "code",
      "source": [
        "# convert S and T into labels Z and W\n",
        "# check Z (cell-type) labels against true labels from metadata\n",
        "# check high expression gene-community against known biomarkers for associated cell-type"
      ],
      "metadata": {
        "id": "JHWsWooVaiIm"
      },
      "execution_count": null,
      "outputs": []
    },
    {
      "cell_type": "code",
      "source": [
        "# figure out way to visualize Z and W labels"
      ],
      "metadata": {
        "id": "X_Z26Zcqa5fl"
      },
      "execution_count": null,
      "outputs": []
    }
  ]
}