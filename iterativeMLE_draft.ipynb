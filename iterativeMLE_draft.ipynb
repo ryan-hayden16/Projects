{
  "nbformat": 4,
  "nbformat_minor": 0,
  "metadata": {
    "colab": {
      "name": "iterativeMLE_draft.ipynb",
      "provenance": [],
      "authorship_tag": "ABX9TyM/Bkd2weEAypdVfXJkqP2G",
      "include_colab_link": true
    },
    "kernelspec": {
      "name": "python3",
      "display_name": "Python 3"
    },
    "language_info": {
      "name": "python"
    }
  },
  "cells": [
    {
      "cell_type": "markdown",
      "metadata": {
        "id": "view-in-github",
        "colab_type": "text"
      },
      "source": [
        "<a href=\"https://colab.research.google.com/github/ryan-hayden16/Projects/blob/main/iterativeMLE_draft.ipynb\" target=\"_parent\"><img src=\"https://colab.research.google.com/assets/colab-badge.svg\" alt=\"Open In Colab\"/></a>"
      ]
    },
    {
      "cell_type": "markdown",
      "source": [
        "Preliminary steps"
      ],
      "metadata": {
        "id": "ACb79dw-HJBI"
      }
    },
    {
      "cell_type": "code",
      "source": [
        "# imports and installs\n",
        "!pip install scanpy # tools for scRNA-seq analysis\n",
        "!pip install matplotlib==3.1.3 # current version produces error w/ scanpy\n",
        "!pip install sklearn # tools for general data analysis\n",
        "\n",
        "import pandas as pd\n",
        "import numpy as np\n",
        "import scanpy as sc\n",
        "import sklearn\n",
        "import matplotlib.pyplot as plt\n",
        "import math\n",
        "from sklearn import metrics\n",
        "from sklearn.preprocessing import StandardScaler\n",
        "\n",
        "!pip install matplotlib==3.1.3 # reinstall to force old package version"
      ],
      "metadata": {
        "id": "T5mtH5zxGoPv"
      },
      "execution_count": null,
      "outputs": []
    },
    {
      "cell_type": "markdown",
      "source": [
        "Load data (and metadata, if available)"
      ],
      "metadata": {
        "id": "iTTW7u9ajXjl"
      }
    },
    {
      "cell_type": "code",
      "execution_count": null,
      "metadata": {
        "id": "5uTVsT3SBzgq"
      },
      "outputs": [],
      "source": [
        "# load data matrix (single patient/sample)\n",
        "x = pd.read_csv(\"/content/Kidney-counts.csv\", index_col=0)\n",
        "x = np.transpose(x) # transpose into cell by gene format"
      ]
    },
    {
      "cell_type": "code",
      "source": [
        "# load metadata (if available, can be used to check cluster accuracy)\n",
        "metadata = pd.read_csv(\"/content/annotations_FACS.csv\", index_col=0)\n",
        "metadata = metadata.loc[metadata['tissue'].isin(['Kidney'])]"
      ],
      "metadata": {
        "id": "6z6KfDLIGdjJ"
      },
      "execution_count": null,
      "outputs": []
    },
    {
      "cell_type": "code",
      "source": [
        "# remove raw data with missing labels\n",
        "cellclass=metadata.cell_ontology_class\n",
        "cellclass=cellclass.to_frame()\n",
        "mergedf=x.merge(cellclass, left_index=True, right_index=True)\n",
        "metadf=mergedf.cell_ontology_class\n",
        "metadf=metadf.to_frame()\n",
        "bladf=mergedf.drop(columns=['cell_ontology_class'])\n",
        "\n",
        "# now raw data and metadata have matching sizes\n",
        "x=bladf\n",
        "x_labels=metadf\n",
        "\n",
        "# create annotated data matrix (ie: anndata) to use with scanpy\n",
        "adata_raw = sc.AnnData(X = x, obs = x_labels)"
      ],
      "metadata": {
        "id": "-wCkOuJ8KAN-",
        "colab": {
          "base_uri": "https://localhost:8080/"
        },
        "outputId": "46bfddee-c863-493d-f644-794962f57e85"
      },
      "execution_count": null,
      "outputs": [
        {
          "output_type": "stream",
          "name": "stderr",
          "text": [
            "/usr/local/lib/python3.7/dist-packages/ipykernel_launcher.py:14: FutureWarning: X.dtype being converted to np.float32 from int64. In the next version of anndata (0.9) conversion will not be automatic. Pass dtype explicitly to avoid this warning. Pass `AnnData(X, dtype=X.dtype, ...)` to get the future behavour.\n",
            "  \n"
          ]
        }
      ]
    },
    {
      "cell_type": "markdown",
      "source": [
        "Quality control of raw data (optional)"
      ],
      "metadata": {
        "id": "loEAml3ujeA2"
      }
    },
    {
      "cell_type": "code",
      "source": [
        "# quality control of raw data? (need old matplotlib version to avoid errors)\n",
        "\n",
        "# quality control\n",
        "adata_qc=adata_raw # keep copy of the raw data\n",
        "is_spike_in = {}\n",
        "for gene_name in adata_qc.var_names:\n",
        "    if 'ERCC' in gene_name:\n",
        "        is_spike_in[gene_name] = True # record that we found a spike-in\n",
        "    else:\n",
        "        is_spike_in[gene_name] = False # record that this was not a spike-in\n",
        "adata_qc.var['ERCC'] = pd.Series(is_spike_in) # label the spike ins\n",
        "qc = sc.pp.calculate_qc_metrics(adata_qc, qc_vars = ['ERCC']) # scanpy function\n",
        "cell_qc_dataframe = qc[0] # cell quality control\n",
        "gene_qc_dataframe = qc[1] # gene quality control\n",
        "\n",
        "# cell filtering and gene filtering\n",
        "low_ERCC_mask = (cell_qc_dataframe['pct_counts_ERCC'] < 10)\n",
        "adata_qc = adata_qc[low_ERCC_mask]\n",
        "sc.pp.filter_cells(adata_qc, min_genes = 750) # filter cells \n",
        "sc.pp.filter_genes(adata_qc, min_cells = 2) # filter genes\n",
        "sc.pp.filter_genes(adata_qc, min_counts = 10)\n",
        "\n",
        "#run PCA with no labels\n",
        "sc.pp.pca(adata_qc)\n",
        "sc.pl.pca_overview(adata_qc) # plot\n",
        "\n",
        "# run PCA as exploratory measure to check the data out\n",
        "sc.pp.pca(adata_qc)\n",
        "sc.pl.pca_overview(adata_qc, color='cell_ontology_class') # plot\n",
        "\n",
        "# normalize the data \n",
        "adata_norm=adata_qc # keep copy of qc data\n",
        "sc.pp.normalize_per_cell(adata_norm, counts_per_cell_after=1e6)\n",
        "sc.pp.normalize_total(adata_norm, target_sum=1e6, exclude_highly_expressed=True)\n",
        "\n",
        "# (OPTIONAL) Remove highly expressed genes distorting the data\n",
        "not_Rn45s = adata_norm.var.index != 'Rn45s'\n",
        "adata_no_Rn45s = adata_norm[:, not_Rn45s] # keep copy of normed data\n",
        "# need to check which genes to remove\n",
        "\n",
        "# scale the data\n",
        "adata_scale=adata_no_Rn45s\n",
        "# adata_scale=adata_norm\n",
        "sc.pp.log1p(adata_scale)\n",
        "sc.pp.scale(adata_scale)\n",
        "\n",
        "#re-run PCA with no labels\n",
        "sc.pp.pca(adata_scale)\n",
        "sc.pl.pca_overview(adata_scale) # plot\n",
        "\n",
        "# re-run PCA, should seperate data better this time\n",
        "sc.pp.pca(adata_scale)\n",
        "sc.pl.pca_overview(adata_scale, color='cell_ontology_class') # plot\n",
        "\n",
        "adata=adata_scale # adata is now quality controlled, normalized, and scaled"
      ],
      "metadata": {
        "id": "fq_NGXbEOMJR"
      },
      "execution_count": null,
      "outputs": []
    },
    {
      "cell_type": "markdown",
      "source": [
        "Extract count matrix from raw data"
      ],
      "metadata": {
        "id": "EcPf1JCnjp82"
      }
    },
    {
      "cell_type": "code",
      "source": [
        "# convert data matrix in adata to dataframe\n",
        "x = pd.DataFrame(adata.X)\n",
        "x=x.set_index(adata.obs.index)\n",
        "\n",
        "#NOTE, numpy ndarray is preferable to dataframe because it can be more than 2 dimensions, but tensorflow tensor might be computationally advantageous"
      ],
      "metadata": {
        "id": "irKCY-vZQDr5"
      },
      "execution_count": null,
      "outputs": []
    },
    {
      "cell_type": "markdown",
      "source": [
        "\n",
        "Define known variables"
      ],
      "metadata": {
        "id": "490RutdYSQMf"
      }
    },
    {
      "cell_type": "code",
      "source": [
        "# define known values\n",
        "C,G = x.shape # retrieve number of cells and genes from raw data matrix\n",
        "K = 5 # predicted number of cell-types\n",
        "L = 3 # predicted number of gene-communities (ie: high, medium, low expression communities)\n",
        "\n",
        "\n",
        "# define distribution f (start with Poisson) \n",
        "poisson pdf"
      ],
      "metadata": {
        "id": "Bt2cKQqeSX7j"
      },
      "execution_count": null,
      "outputs": []
    },
    {
      "cell_type": "markdown",
      "source": [
        "python notes"
      ],
      "metadata": {
        "id": "iDlpmkIqcgui"
      }
    },
    {
      "cell_type": "code",
      "source": [
        "#create tensor in python\n",
        "import random\n",
        "C=50\n",
        "G=100\n",
        "K=5 \n",
        "L=3 \n",
        "Q=np.zeros((G,K,L))\n",
        "for i in range(G):\n",
        "  for j in range(K):\n",
        "    for l in range(L):\n",
        "      Q[i,j,l]=random.uniform(0, 1)\n",
        "\n",
        "print(Q)\n",
        "# Q is GxKxL tensor"
      ],
      "metadata": {
        "id": "q_6V-Mn4npNd"
      },
      "execution_count": null,
      "outputs": []
    },
    {
      "cell_type": "code",
      "source": [
        "# generate fake (normalized) count data\n",
        "X=np.zeros((C,G))\n",
        "for c in range(C):\n",
        "  for g in range(G):\n",
        "    X[c,g]=random.uniform(0,1)"
      ],
      "metadata": {
        "id": "pdFMKUiFsDJ9"
      },
      "execution_count": 3,
      "outputs": []
    },
    {
      "cell_type": "code",
      "source": [
        "X"
      ],
      "metadata": {
        "id": "4jfYkLZa_ukp"
      },
      "execution_count": null,
      "outputs": []
    },
    {
      "cell_type": "markdown",
      "source": [
        "Initialize S and T variables"
      ],
      "metadata": {
        "id": "dhO_yZPhkG5h"
      }
    },
    {
      "cell_type": "code",
      "source": [
        "# initialize S\n",
        "import scipy as sp\n",
        "from numpy import linalg as LA\n",
        "from scipy.linalg import sqrtm\n",
        "from numpy.linalg import inv\n",
        "from sklearn.preprocessing import normalize\n",
        "from sklearn.cluster import KMeans\n",
        "\n",
        "\n",
        "A=np.dot(X,np.transpose(X)) #step 1 (affinity matrix, simple version)\n",
        "\n",
        "D=np.zeros((C,C))\n",
        "for i in range(C):\n",
        "  D[i,i] = sum(A[i,:]) #step 2.a (graph laplacian)\n",
        "\n",
        "E=sqrtm(D) \n",
        "F=inv(E) \n",
        "H=np.dot(F,np.dot(A,F)) #step 2.b (graph laplacian)\n",
        "\n",
        "\n",
        "w, v = LA.eig(H) #step 3 (find K largest (orthogonal) eigenvectors of H and form a CxK matrix with them) and normalize the matrix\n",
        "ordered_eigval=np.argsort(w) # returns indexes of ordered (small to large) of w (eigenvalue list)\n",
        "k_large_eigval = ordered_eigval[-K:] # returns indexes of K largest eigvals\n",
        "k_large_eigvec=np.transpose(v[k_large_eigval]) # returns corresponding K largest eigvecs, as a CxK ndarray\n",
        "Y = normalize(k_large_eigvec, axis=1, norm='l2') #normalize rows of the CxK matrix\n",
        "\n",
        "\n",
        "#step 5 (treat each of the C rows of the matrix as a K-dim vector and cluster into K-clusters, via K-means)\n",
        "kmeans = KMeans(n_clusters=K, random_state=0).fit(Y)\n",
        "cluster_labels = kmeans.labels_\n",
        "\n",
        "#step 6 (assign/label each of the C cells into the corresponding cluster (ie: labels are 1,2,...,K) from step 5)\n",
        "S=np.zeros((C,K))\n",
        "for i in range(C):\n",
        "  for j in range(K):\n",
        "    if cluster_labels[i]==j:\n",
        "      S[i,j]=1\n",
        "#(each cell now has a label from 1,...,K, so we can then form the CxK classification matrix (ie: matrix S) that we want)\n",
        "\n",
        "\n",
        "# this process gives us S_0\n",
        "\n",
        "# THIS CODE IS FINISHED AND HAS BEEN CHECKED TO BE WORKING PROPERLY"
      ],
      "metadata": {
        "id": "FyVuZx30S9o1"
      },
      "execution_count": 238,
      "outputs": []
    },
    {
      "cell_type": "code",
      "source": [
        "e=LA.norm(k_large_eigvec, axis=1)\n",
        "for i in range(C):\n",
        "  k_large_eigvec[i,:]=k_large_eigvec[i,:]/e[i]\n",
        "#this can replace sklearn l2 normalizer, check below for accuracy"
      ],
      "metadata": {
        "id": "lbCVBgPcQe7v"
      },
      "execution_count": 242,
      "outputs": []
    },
    {
      "cell_type": "code",
      "source": [
        "Y[12,:]"
      ],
      "metadata": {
        "colab": {
          "base_uri": "https://localhost:8080/"
        },
        "id": "Yh6y-X_1SXwT",
        "outputId": "efc319eb-de89-48a2-a8c6-23a2453486ca"
      },
      "execution_count": 248,
      "outputs": [
        {
          "output_type": "execute_result",
          "data": {
            "text/plain": [
              "array([-0.09171484,  0.4180342 ,  0.71894418, -0.09473294, -0.5394263 ])"
            ]
          },
          "metadata": {},
          "execution_count": 248
        }
      ]
    },
    {
      "cell_type": "code",
      "source": [
        " k_large_eigvec[12,:]"
      ],
      "metadata": {
        "colab": {
          "base_uri": "https://localhost:8080/"
        },
        "id": "4PbxSVL2SIRI",
        "outputId": "8ae16c59-4f15-4c90-8d4d-01891a4567ad"
      },
      "execution_count": 249,
      "outputs": [
        {
          "output_type": "execute_result",
          "data": {
            "text/plain": [
              "array([-0.09171484,  0.4180342 ,  0.71894418, -0.09473294, -0.5394263 ])"
            ]
          },
          "metadata": {},
          "execution_count": 249
        }
      ]
    },
    {
      "cell_type": "code",
      "source": [
        "Y==k_large_eigvec"
      ],
      "metadata": {
        "id": "u9EhlggRU_BV"
      },
      "execution_count": null,
      "outputs": []
    },
    {
      "cell_type": "markdown",
      "source": [
        "test if code works:"
      ],
      "metadata": {
        "id": "ychTj8ZOjy4o"
      }
    },
    {
      "cell_type": "code",
      "source": [
        "S.shape"
      ],
      "metadata": {
        "id": "MPFYPxqqatj-"
      },
      "execution_count": null,
      "outputs": []
    },
    {
      "cell_type": "code",
      "source": [
        "cluster_labels # compare with S printout above to see that it worked"
      ],
      "metadata": {
        "colab": {
          "base_uri": "https://localhost:8080/"
        },
        "id": "y5q1R9CGTNP_",
        "outputId": "1ebf81b5-994f-4c1a-c183-2fb188eb60a0"
      },
      "execution_count": 10,
      "outputs": [
        {
          "output_type": "execute_result",
          "data": {
            "text/plain": [
              "array([2, 2, 0, 4, 4, 1, 0, 0, 2, 3, 1, 3, 3, 2, 2, 1, 0, 3, 2, 4, 3, 4,\n",
              "       1, 4, 2, 4, 4, 2, 3, 2, 0, 4, 1, 1, 3, 3, 4, 0, 3, 2, 3, 1, 4, 3,\n",
              "       1, 3, 1, 2, 3, 0], dtype=int32)"
            ]
          },
          "metadata": {},
          "execution_count": 10
        }
      ]
    },
    {
      "cell_type": "markdown",
      "source": [
        ""
      ],
      "metadata": {
        "id": "xhFYpe2Hvjp4"
      }
    },
    {
      "cell_type": "code",
      "source": [
        "X"
      ],
      "metadata": {
        "id": "1FeTf4smBljw"
      },
      "execution_count": null,
      "outputs": []
    },
    {
      "cell_type": "code",
      "source": [
        "k_large_eigvec"
      ],
      "metadata": {
        "id": "RBCCnDhe-J8W"
      },
      "execution_count": null,
      "outputs": []
    },
    {
      "cell_type": "code",
      "source": [
        "T=np.zeros((G,K,L))\n",
        "\n",
        "for i in range(K):\n",
        "  XT=X\n",
        "  XT=np.delete(XT,np.where(cluster_labels!=i),0) #now XT should only contain rows with label i\n",
        "  A=np.dot(np.transpose(XT),XT) #step 1 (affinity matrix, simple version)\n",
        "  D=np.zeros((G,G))\n",
        "  for l in range(G):\n",
        "    D[l,l] = sum(A[l,:]) #step 2.a (graph laplacian)\n",
        "  E=sqrtm(D) \n",
        "  F=inv(E) \n",
        "  H=np.dot(F,np.dot(A,F)) \n",
        "  w, v = LA.eig(H) #step 3 (find K largest (orthogonal) eigenvectors of H and form a GxK matrix with them) and normalize the matrix\n",
        "  ordered_eigval=np.argsort(w) # returns indexes of ordered (small to large) of w (eigenvalue list)\n",
        "  k_large_eigval = ordered_eigval[-K:] # returns indexes of K largest eigvals\n",
        "  k_large_eigvec=np.transpose(v[k_large_eigval]) # returns corresponding K largest eigvecs, as a GxK ndarray\n",
        "  complex_k_large_eigvec=np.array(k_large_eigvec, dtype = 'complex_') # convert to complex valued matrix? does not fix error\n",
        "  e=LA.norm(complex_k_large_eigvec, axis=1) #\n",
        "  for n in range(C):\n",
        "    complex_k_large_eigvec[n,:]=complex_k_large_eigvec[n,:]/e[n]\n",
        "  Y=complex_k_large_eigvec\n",
        "  B=Y.real # possible solution: just consider real part (do this in S initialization as well)\n",
        "  # whatever solution is, apply to S initialization as well in case its eigenvalues are complex\n",
        "  #try dividing each vector in k_large_eigvec by the corresponding value in LA.norm(k_large_eigvec), ie manually scale to unit vector\n",
        "  # Y = normalize(complex_k_large_eigvec, axis=1, norm='l2') #normalize rows of the GxK matrix (CAUSES ERROR DUE TO COMPLEX NUMBERS)\n",
        "  #step 5 (treat each of the C rows of the matrix as a K-dim vector and cluster into K-clusters, via K-means)\n",
        "  #above solution seemed to work, but no error is in k-means\n",
        "\n",
        "# ASK YUNPENG HOW TO DEAL WITH K-MEANS IF VECTORS ARE COMPLEX VALUED ??? MAYBE JUST DROP IMAGINARY PART? OR TAKE MAGNITUDE? ITS ONLY AN INITIAL GUESS FOR S\n",
        "\n",
        "  kmeans = KMeans(n_clusters=L, random_state=0).fit(B)\n",
        "  Tcluster_labels = kmeans.labels_\n",
        "  #step 6 (assign/label each of the C cells into the corresponding cluster (ie: labels are 1,2,...,K) from step 5)\n",
        "  for g in range(G):\n",
        "    for l in range(L):\n",
        "      if Tcluster_labels[g]==l:\n",
        "        T[g,i,l]=1"
      ],
      "metadata": {
        "id": "Amxm1NYR-Q9T"
      },
      "execution_count": 275,
      "outputs": []
    },
    {
      "cell_type": "code",
      "source": [
        "T"
      ],
      "metadata": {
        "colab": {
          "base_uri": "https://localhost:8080/"
        },
        "id": "XgVjn03OZSOH",
        "outputId": "0bc8f5a6-478a-4ae3-d6de-5f434921e565"
      },
      "execution_count": 278,
      "outputs": [
        {
          "output_type": "execute_result",
          "data": {
            "text/plain": [
              "array([[[1., 0., 0.],\n",
              "        [1., 0., 0.],\n",
              "        [1., 0., 0.],\n",
              "        [0., 1., 0.],\n",
              "        [0., 0., 1.]],\n",
              "\n",
              "       [[0., 0., 1.],\n",
              "        [0., 1., 0.],\n",
              "        [0., 0., 1.],\n",
              "        [0., 0., 1.],\n",
              "        [1., 0., 0.]],\n",
              "\n",
              "       [[0., 0., 1.],\n",
              "        [0., 0., 1.],\n",
              "        [0., 0., 1.],\n",
              "        [1., 0., 0.],\n",
              "        [1., 0., 0.]],\n",
              "\n",
              "       ...,\n",
              "\n",
              "       [[0., 1., 0.],\n",
              "        [0., 1., 0.],\n",
              "        [1., 0., 0.],\n",
              "        [0., 0., 1.],\n",
              "        [1., 0., 0.]],\n",
              "\n",
              "       [[0., 1., 0.],\n",
              "        [0., 1., 0.],\n",
              "        [1., 0., 0.],\n",
              "        [0., 0., 1.],\n",
              "        [1., 0., 0.]],\n",
              "\n",
              "       [[0., 1., 0.],\n",
              "        [0., 1., 0.],\n",
              "        [1., 0., 0.],\n",
              "        [0., 0., 1.],\n",
              "        [1., 0., 0.]]])"
            ]
          },
          "metadata": {},
          "execution_count": 278
        }
      ]
    },
    {
      "cell_type": "code",
      "source": [
        "#now code seems to work, but clean it up, make sure no logic errors, and change S initialization code so its also able to deal with complex #'s"
      ],
      "metadata": {
        "id": "cdB9G4fdZXAY"
      },
      "execution_count": null,
      "outputs": []
    },
    {
      "cell_type": "code",
      "source": [
        "T.shape"
      ],
      "metadata": {
        "colab": {
          "base_uri": "https://localhost:8080/"
        },
        "id": "jdVq-UrPJxjq",
        "outputId": "5362e15e-6f49-4fe8-9d06-055b1124aacb"
      },
      "execution_count": 277,
      "outputs": [
        {
          "output_type": "execute_result",
          "data": {
            "text/plain": [
              "(100, 5, 3)"
            ]
          },
          "metadata": {},
          "execution_count": 277
        }
      ]
    },
    {
      "cell_type": "code",
      "source": [
        "XT=X"
      ],
      "metadata": {
        "id": "QD_aRWEgCUN7"
      },
      "execution_count": 164,
      "outputs": []
    },
    {
      "cell_type": "code",
      "source": [
        "XT.shape"
      ],
      "metadata": {
        "colab": {
          "base_uri": "https://localhost:8080/"
        },
        "id": "w-ryS_DjMwk4",
        "outputId": "3cb0ee4b-a2bd-4732-c821-d28a691c4313"
      },
      "execution_count": 165,
      "outputs": [
        {
          "output_type": "execute_result",
          "data": {
            "text/plain": [
              "(50, 100)"
            ]
          },
          "metadata": {},
          "execution_count": 165
        }
      ]
    },
    {
      "cell_type": "code",
      "source": [
        "XT=np.delete(XT, np.where(cluster_labels!=1), 0)\n",
        "XT.shape"
      ],
      "metadata": {
        "colab": {
          "base_uri": "https://localhost:8080/"
        },
        "id": "sNgn1da8BBxe",
        "outputId": "022cdc0d-fd1b-4fd6-e7e9-7113b968106b"
      },
      "execution_count": 148,
      "outputs": [
        {
          "output_type": "execute_result",
          "data": {
            "text/plain": [
              "(9, 100)"
            ]
          },
          "metadata": {},
          "execution_count": 148
        }
      ]
    },
    {
      "cell_type": "code",
      "source": [
        "A=np.dot(np.transpose(XT), XT) #step 1 (affinity matrix, simple version)\n",
        "D=np.zeros((G,G))\n",
        "for i in range(G):\n",
        "  D[i,i] = sum(A[i,:]) #step 2.a (graph laplacian)\n",
        "E=sqrtm(D) \n",
        "F=inv(E) \n",
        "H=np.dot(F,np.dot(A,F)) \n",
        "w, v = LA.eig(H)\n",
        "ordered_eigval=np.argsort(w) # returns indexes of ordered (small to large) of w (eigenvalue list)\n",
        "k_large_eigval = ordered_eigval[-K:] # returns indexes of K largest eigvals\n",
        "k_large_eigvec=np.transpose(v[k_large_eigval]) # returns corresponding K largest eigvecs, as a GxK ndarray\n"
      ],
      "metadata": {
        "id": "P7911R658ZBg"
      },
      "execution_count": 173,
      "outputs": []
    },
    {
      "cell_type": "code",
      "source": [
        "complex_k_large_eigvec=np.array(k_large_eigvec, dtype = 'complex_')"
      ],
      "metadata": {
        "id": "LQiudJjEDydl"
      },
      "execution_count": 174,
      "outputs": []
    },
    {
      "cell_type": "code",
      "source": [
        "LA.norm(complex_k_large_eigvec, axis=1)"
      ],
      "metadata": {
        "colab": {
          "base_uri": "https://localhost:8080/"
        },
        "id": "yFRXMtNlO5wP",
        "outputId": "badeb296-6ba1-44f3-dcfe-d9248e21bd0b"
      },
      "execution_count": 181,
      "outputs": [
        {
          "output_type": "execute_result",
          "data": {
            "text/plain": [
              "array([0.23100799, 0.17825228, 0.18196438, 0.15861025, 0.2948609 ,\n",
              "       0.19210494, 0.18553239, 0.31387384, 0.18365336, 0.18365336,\n",
              "       0.11047908, 0.14301853, 0.18946156, 0.18946156, 0.1711011 ,\n",
              "       0.16823063, 0.16823063, 0.14866068, 0.14866068, 0.17133171,\n",
              "       0.17133171, 0.18058732, 0.17829753, 0.17829753, 0.12870542,\n",
              "       0.12870542, 0.08870523, 0.08870523, 0.10368609, 0.06611207,\n",
              "       0.04697869, 0.04984151, 0.17787847, 0.17787847, 0.11323929,\n",
              "       0.18451544, 0.18451544, 0.15722837, 0.15722837, 0.15021842,\n",
              "       0.15021842, 0.19650791, 0.13843645, 0.13843645, 0.14259526,\n",
              "       0.14259526, 0.18353271, 0.18353271, 0.10932481, 0.10932481,\n",
              "       0.13100819, 0.19645288, 0.19645288, 0.19182122, 0.19182122,\n",
              "       0.19428756, 0.19428756, 0.18209134, 0.18209134, 0.04835789,\n",
              "       0.13884817, 0.13884817, 0.13460245, 0.14226804, 0.14226804,\n",
              "       0.16341462, 0.16341462, 0.17895414, 0.17895414, 0.06010679,\n",
              "       0.15649836, 0.15649836, 0.18056355, 0.21603297, 0.21603297,\n",
              "       0.23935795, 0.23935795, 0.18037995, 0.18037995, 0.12938284,\n",
              "       0.12938284, 0.17952212, 0.17952212, 0.12023429, 0.0670307 ,\n",
              "       0.0670307 , 0.21525655, 0.21525655, 0.1801191 , 0.1801191 ,\n",
              "       0.15908363, 0.15908363, 0.0628343 , 0.1607866 , 0.0930592 ,\n",
              "       0.0930592 , 0.16488692, 0.10862217, 0.09657787, 0.17777119])"
            ]
          },
          "metadata": {},
          "execution_count": 181
        }
      ]
    },
    {
      "cell_type": "code",
      "source": [
        "complex_k_large_eigvec"
      ],
      "metadata": {
        "colab": {
          "base_uri": "https://localhost:8080/"
        },
        "id": "G2gxRazhOy5t",
        "outputId": "7b1112c1-7932-444b-b1b7-c88f4d319f76"
      },
      "execution_count": 176,
      "outputs": [
        {
          "output_type": "execute_result",
          "data": {
            "text/plain": [
              "array([[-1.05255856e-01+0.00000000e+00j, -7.90672182e-02+0.00000000e+00j,\n",
              "        -1.16599528e-01+0.00000000e+00j, -1.11511095e-01+0.00000000e+00j,\n",
              "        -1.00020475e-01+0.00000000e+00j],\n",
              "       [ 1.34724086e-01+0.00000000e+00j, -5.85660774e-02+0.00000000e+00j,\n",
              "         9.61165352e-02+0.00000000e+00j, -2.36450015e-02+0.00000000e+00j,\n",
              "        -1.98955912e-02+0.00000000e+00j],\n",
              "       [-1.24738051e-02+0.00000000e+00j, -1.49698158e-02+0.00000000e+00j,\n",
              "         4.18261256e-02+0.00000000e+00j, -1.49597545e-01+0.00000000e+00j,\n",
              "        -9.27496395e-02+0.00000000e+00j],\n",
              "       [-1.32496656e-01+0.00000000e+00j,  1.29103683e-02+0.00000000e+00j,\n",
              "         3.59898642e-02+0.00000000e+00j, -4.47145077e-02+0.00000000e+00j,\n",
              "         6.43468227e-02+0.00000000e+00j],\n",
              "       [ 3.10819401e-02+0.00000000e+00j,  9.31335133e-02+0.00000000e+00j,\n",
              "        -9.99138244e-02+0.00000000e+00j,  1.57566955e-01+0.00000000e+00j,\n",
              "        -2.06138042e-01+0.00000000e+00j],\n",
              "       [-7.66754930e-02+0.00000000e+00j, -1.07723237e-01+0.00000000e+00j,\n",
              "        -5.22602489e-03+0.00000000e+00j,  9.92783734e-02+0.00000000e+00j,\n",
              "        -9.76594750e-02+0.00000000e+00j],\n",
              "       [ 4.14983861e-02+0.00000000e+00j, -5.29461073e-03+0.00000000e+00j,\n",
              "         1.23834313e-01+0.00000000e+00j,  1.07190825e-01+0.00000000e+00j,\n",
              "        -7.64676961e-02+0.00000000e+00j],\n",
              "       [ 4.04517731e-02+0.00000000e+00j, -7.73668963e-02+0.00000000e+00j,\n",
              "         8.62673177e-02+0.00000000e+00j, -1.72675991e-01+0.00000000e+00j,\n",
              "        -2.31593947e-01+0.00000000e+00j],\n",
              "       [ 9.82566242e-03+3.03953046e-02j,  9.10307722e-02-3.61311045e-02j,\n",
              "        -5.77447350e-02+5.71205004e-02j,  2.10319014e-02-5.95583296e-02j,\n",
              "        -1.08238712e-01+2.85257921e-02j],\n",
              "       [ 9.82566242e-03-3.03953046e-02j,  9.10307722e-02+3.61311045e-02j,\n",
              "        -5.77447350e-02-5.71205004e-02j,  2.10319014e-02+5.95583296e-02j,\n",
              "        -1.08238712e-01-2.85257921e-02j],\n",
              "       [-3.22676402e-02+0.00000000e+00j,  2.37279006e-02+0.00000000e+00j,\n",
              "         4.56736440e-02+0.00000000e+00j,  3.35568858e-02+0.00000000e+00j,\n",
              "        -8.59608388e-02+0.00000000e+00j],\n",
              "       [-2.26153817e-02+0.00000000e+00j,  3.37529824e-02+0.00000000e+00j,\n",
              "         1.22082712e-01+0.00000000e+00j, -6.17261210e-02+0.00000000e+00j,\n",
              "         9.44877210e-03+0.00000000e+00j],\n",
              "       [ 6.50477967e-02+1.02942081e-02j, -4.49361688e-02-7.97023334e-02j,\n",
              "         9.89059226e-02-2.44386469e-02j,  2.30499221e-02+9.08629953e-02j,\n",
              "         6.31133506e-02+6.03897806e-03j],\n",
              "       [ 6.50477967e-02-1.02942081e-02j, -4.49361688e-02+7.97023334e-02j,\n",
              "         9.89059226e-02+2.44386469e-02j,  2.30499221e-02-9.08629953e-02j,\n",
              "         6.31133506e-02-6.03897806e-03j],\n",
              "       [-1.36397095e-01+0.00000000e+00j, -6.83170972e-02+0.00000000e+00j,\n",
              "         5.58297398e-02+0.00000000e+00j,  1.71632686e-03+0.00000000e+00j,\n",
              "         5.37055681e-02+0.00000000e+00j],\n",
              "       [ 4.12732156e-02-2.48495794e-02j,  1.46200203e-01+4.98399287e-02j,\n",
              "         7.33469322e-04-1.52305237e-02j,  3.89234886e-03-2.98655106e-03j,\n",
              "        -3.06755226e-02-3.04053180e-02j],\n",
              "       [ 4.12732156e-02+2.48495794e-02j,  1.46200203e-01-4.98399287e-02j,\n",
              "         7.33469322e-04+1.52305237e-02j,  3.89234886e-03+2.98655106e-03j,\n",
              "        -3.06755226e-02+3.04053180e-02j],\n",
              "       [-1.14108759e-01-2.86463858e-02j, -2.58478838e-02+2.89626129e-02j,\n",
              "         7.98752732e-03-6.17046884e-02j, -1.09794976e-02+1.22435161e-02j,\n",
              "        -4.93620181e-02+1.31642043e-02j],\n",
              "       [-1.14108759e-01+2.86463858e-02j, -2.58478838e-02-2.89626129e-02j,\n",
              "         7.98752732e-03+6.17046884e-02j, -1.09794976e-02-1.22435161e-02j,\n",
              "        -4.93620181e-02-1.31642043e-02j],\n",
              "       [ 3.17789416e-02-7.99016937e-02j, -6.66613150e-02+1.55075497e-02j,\n",
              "         9.36169956e-02+6.99017255e-02j, -1.22149610e-02-5.50681685e-03j,\n",
              "         3.12243328e-02+4.97119260e-02j],\n",
              "       [ 3.17789416e-02+7.99016937e-02j, -6.66613150e-02-1.55075497e-02j,\n",
              "         9.36169956e-02-6.99017255e-02j, -1.22149610e-02+5.50681685e-03j,\n",
              "         3.12243328e-02-4.97119260e-02j],\n",
              "       [-2.47507320e-02+0.00000000e+00j,  4.49574105e-02+0.00000000e+00j,\n",
              "         1.70492631e-01+0.00000000e+00j,  7.60421422e-03+0.00000000e+00j,\n",
              "         2.91967911e-02+0.00000000e+00j],\n",
              "       [-1.34480080e-01-1.27655796e-02j, -6.22585076e-02-9.34898427e-03j,\n",
              "         8.35532433e-02+2.81454222e-03j,  1.13561700e-02-8.74884130e-05j,\n",
              "         4.95960589e-02-9.09632156e-04j],\n",
              "       [-1.34480080e-01+1.27655796e-02j, -6.22585076e-02+9.34898427e-03j,\n",
              "         8.35532433e-02-2.81454222e-03j,  1.13561700e-02+8.74884130e-05j,\n",
              "         4.95960589e-02+9.09632156e-04j],\n",
              "       [-1.02348584e-01+5.49235151e-02j, -2.06571842e-02+3.87286627e-03j,\n",
              "         2.23913457e-02+2.82740139e-02j,  1.38663234e-02+1.00675279e-02j,\n",
              "         1.76782730e-02+2.69183629e-02j],\n",
              "       [-1.02348584e-01-5.49235151e-02j, -2.06571842e-02-3.87286627e-03j,\n",
              "         2.23913457e-02-2.82740139e-02j,  1.38663234e-02-1.00675279e-02j,\n",
              "         1.76782730e-02-2.69183629e-02j],\n",
              "       [-6.21647349e-03+7.91747175e-03j, -1.90852387e-02-3.53226861e-02j,\n",
              "        -4.54553327e-03+5.81486682e-02j, -5.61359718e-03-4.05393608e-03j,\n",
              "        -2.83728001e-02+4.35942296e-02j],\n",
              "       [-6.21647349e-03-7.91747175e-03j, -1.90852387e-02+3.53226861e-02j,\n",
              "        -4.54553327e-03-5.81486682e-02j, -5.61359718e-03+4.05393608e-03j,\n",
              "        -2.83728001e-02-4.35942296e-02j],\n",
              "       [-3.71101911e-02+0.00000000e+00j,  3.90201474e-02+0.00000000e+00j,\n",
              "        -6.69700250e-02+0.00000000e+00j,  8.50024665e-03+0.00000000e+00j,\n",
              "         5.73918886e-02+0.00000000e+00j],\n",
              "       [ 1.43278941e-02+0.00000000e+00j,  1.53277152e-02+0.00000000e+00j,\n",
              "         6.06919191e-02+0.00000000e+00j,  1.93154669e-03+0.00000000e+00j,\n",
              "        -1.55993262e-02+0.00000000e+00j],\n",
              "       [ 2.87230210e-02+0.00000000e+00j,  1.08924832e-02+0.00000000e+00j,\n",
              "         3.39115270e-02+0.00000000e+00j,  4.00352991e-04+0.00000000e+00j,\n",
              "        -1.06389324e-02+0.00000000e+00j],\n",
              "       [-1.46031256e-02+0.00000000e+00j, -2.01951650e-02+0.00000000e+00j,\n",
              "         3.82394263e-02+0.00000000e+00j,  4.02271948e-04+0.00000000e+00j,\n",
              "        -2.00165986e-02+0.00000000e+00j],\n",
              "       [ 4.74239150e-02+1.14710685e-01j,  6.33997529e-02-2.76076856e-02j,\n",
              "        -5.68689040e-02+5.86727340e-02j, -1.54004859e-02-2.80255097e-02j,\n",
              "        -6.09415802e-02+6.19894790e-03j],\n",
              "       [ 4.74239150e-02-1.14710685e-01j,  6.33997529e-02+2.76076856e-02j,\n",
              "        -5.68689040e-02-5.86727340e-02j, -1.54004859e-02+2.80255097e-02j,\n",
              "        -6.09415802e-02-6.19894790e-03j],\n",
              "       [-2.03781278e-02+0.00000000e+00j,  1.29145875e-02+0.00000000e+00j,\n",
              "         1.08986958e-01+0.00000000e+00j, -6.17589543e-04+0.00000000e+00j,\n",
              "        -1.90405601e-02+0.00000000e+00j],\n",
              "       [ 1.77676401e-02+1.53729062e-01j,  2.09769445e-02+1.42826304e-02j,\n",
              "         2.11499670e-02-3.15470704e-02j,  2.34084548e-02+8.13846535e-03j,\n",
              "         8.41833455e-02+1.76080856e-02j],\n",
              "       [ 1.77676401e-02-1.53729062e-01j,  2.09769445e-02-1.42826304e-02j,\n",
              "         2.11499670e-02+3.15470704e-02j,  2.34084548e-02-8.13846535e-03j,\n",
              "         8.41833455e-02-1.76080856e-02j],\n",
              "       [-2.63307122e-02-2.38616115e-02j, -2.84181303e-02+3.92968950e-03j,\n",
              "         4.69296481e-02-1.36571756e-01j,  1.18797805e-03+1.44280184e-02j,\n",
              "         2.79271905e-02+2.81300981e-02j],\n",
              "       [-2.63307122e-02+2.38616115e-02j, -2.84181303e-02-3.92968950e-03j,\n",
              "         4.69296481e-02+1.36571756e-01j,  1.18797805e-03-1.44280184e-02j,\n",
              "         2.79271905e-02-2.81300981e-02j],\n",
              "       [ 1.27237004e-05+4.14589315e-03j,  4.56325609e-02-9.01176918e-02j,\n",
              "         2.63072458e-02+9.98668674e-02j, -1.75103230e-02-4.81560074e-03j,\n",
              "        -3.28522992e-02-1.64413780e-02j],\n",
              "       [ 1.27237004e-05-4.14589315e-03j,  4.56325609e-02+9.01176918e-02j,\n",
              "         2.63072458e-02-9.98668674e-02j, -1.75103230e-02+4.81560074e-03j,\n",
              "        -3.28522992e-02+1.64413780e-02j],\n",
              "       [-9.87659165e-02+0.00000000e+00j, -1.21586838e-02+0.00000000e+00j,\n",
              "         1.55260024e-01+0.00000000e+00j, -1.52501363e-02+0.00000000e+00j,\n",
              "        -6.61405720e-02+0.00000000e+00j],\n",
              "       [ 3.82502197e-02-3.04262026e-02j,  7.67255531e-02+2.29845477e-02j,\n",
              "        -5.08650450e-02-8.62884734e-02j,  1.22130543e-02-1.49067651e-03j,\n",
              "         3.72250131e-03-1.27486149e-02j],\n",
              "       [ 3.82502197e-02+3.04262026e-02j,  7.67255531e-02-2.29845477e-02j,\n",
              "        -5.08650450e-02+8.62884734e-02j,  1.22130543e-02+1.49067651e-03j,\n",
              "         3.72250131e-03+1.27486149e-02j],\n",
              "       [ 2.73323367e-02+7.03982793e-02j,  1.10146690e-03-1.72547247e-02j,\n",
              "        -7.68310461e-02-7.01432658e-02j, -3.61613668e-03+1.14564669e-02j,\n",
              "         4.47249721e-02+3.69290896e-02j],\n",
              "       [ 2.73323367e-02-7.03982793e-02j,  1.10146690e-03+1.72547247e-02j,\n",
              "        -7.68310461e-02+7.01432658e-02j, -3.61613668e-03-1.14564669e-02j,\n",
              "         4.47249721e-02-3.69290896e-02j],\n",
              "       [-1.55480019e-03+1.58329561e-02j, -9.26667038e-02-5.00659267e-02j,\n",
              "         4.48412847e-02+1.34661165e-01j, -1.39958987e-03+2.88491911e-02j,\n",
              "         2.40272967e-02+2.79557627e-02j],\n",
              "       [-1.55480019e-03-1.58329561e-02j, -9.26667038e-02+5.00659267e-02j,\n",
              "         4.48412847e-02-1.34661165e-01j, -1.39958987e-03-2.88491911e-02j,\n",
              "         2.40272967e-02-2.79557627e-02j],\n",
              "       [-1.54769137e-02+3.20197660e-02j,  1.50129097e-02-5.00007483e-02j,\n",
              "         2.65233895e-02+7.75900261e-02j, -1.57279037e-02+1.37062586e-02j,\n",
              "        -1.41004959e-02+2.45742921e-02j],\n",
              "       [-1.54769137e-02-3.20197660e-02j,  1.50129097e-02+5.00007483e-02j,\n",
              "         2.65233895e-02-7.75900261e-02j, -1.57279037e-02-1.37062586e-02j,\n",
              "        -1.41004959e-02-2.45742921e-02j],\n",
              "       [ 7.57036599e-02+0.00000000e+00j,  5.56254075e-02+0.00000000e+00j,\n",
              "         8.83113813e-02+0.00000000e+00j,  1.22086086e-02+0.00000000e+00j,\n",
              "         1.97475449e-02+0.00000000e+00j],\n",
              "       [-3.37203760e-02-2.37363189e-02j,  8.95961919e-02-2.30344922e-02j,\n",
              "        -1.42347016e-01+8.40635939e-02j, -2.46124327e-02-1.07424581e-02j,\n",
              "        -1.58426419e-02+5.80245139e-03j],\n",
              "       [-3.37203760e-02+2.37363189e-02j,  8.95961919e-02+2.30344922e-02j,\n",
              "        -1.42347016e-01-8.40635939e-02j, -2.46124327e-02+1.07424581e-02j,\n",
              "        -1.58426419e-02-5.80245139e-03j],\n",
              "       [ 7.90393317e-02+1.53033261e-01j,  1.84994991e-02+3.27712367e-02j,\n",
              "        -5.94306351e-02+3.07984637e-02j, -1.21857593e-02-1.11003664e-02j,\n",
              "        -3.08024291e-02-3.42854757e-03j],\n",
              "       [ 7.90393317e-02-1.53033261e-01j,  1.84994991e-02-3.27712367e-02j,\n",
              "        -5.94306351e-02-3.07984637e-02j, -1.21857593e-02+1.11003664e-02j,\n",
              "        -3.08024291e-02+3.42854757e-03j],\n",
              "       [-1.23163431e-01+2.97618367e-03j,  2.60171380e-02-1.08009570e-01j,\n",
              "         9.74213520e-02+1.95703227e-02j, -8.54088342e-03+5.68285218e-03j,\n",
              "         1.15969578e-02+1.06283778e-02j],\n",
              "       [-1.23163431e-01-2.97618367e-03j,  2.60171380e-02+1.08009570e-01j,\n",
              "         9.74213520e-02-1.95703227e-02j, -8.54088342e-03-5.68285218e-03j,\n",
              "         1.15969578e-02-1.06283778e-02j],\n",
              "       [ 1.77908538e-03-3.11471700e-03j, -1.96578107e-03+2.21922419e-03j,\n",
              "         2.83584457e-02-1.74847912e-01j, -5.36226689e-03-1.94330197e-02j,\n",
              "        -3.61121964e-02-7.00863560e-03j],\n",
              "       [ 1.77908538e-03+3.11471700e-03j, -1.96578107e-03-2.21922419e-03j,\n",
              "         2.83584457e-02+1.74847912e-01j, -5.36226689e-03+1.94330197e-02j,\n",
              "        -3.61121964e-02+7.00863560e-03j],\n",
              "       [-2.28311917e-02+0.00000000e+00j,  1.04654904e-02+0.00000000e+00j,\n",
              "         3.73658972e-02+0.00000000e+00j, -2.23786573e-03+0.00000000e+00j,\n",
              "        -1.75065017e-02+0.00000000e+00j],\n",
              "       [-4.72768136e-02+1.83903370e-02j,  5.72234020e-02-2.92053975e-02j,\n",
              "        -9.71903976e-02+2.18619247e-02j, -2.18790015e-02-8.34728331e-03j,\n",
              "        -4.28765529e-02-1.63509966e-02j],\n",
              "       [-4.72768136e-02-1.83903370e-02j,  5.72234020e-02+2.92053975e-02j,\n",
              "        -9.71903976e-02-2.18619247e-02j, -2.18790015e-02+8.34728331e-03j,\n",
              "        -4.28765529e-02+1.63509966e-02j],\n",
              "       [-5.92181239e-03+0.00000000e+00j, -1.21545823e-03+0.00000000e+00j,\n",
              "         1.19403057e-01+0.00000000e+00j,  2.69450226e-02+0.00000000e+00j,\n",
              "         5.56610324e-02+0.00000000e+00j],\n",
              "       [-2.81350937e-02+9.52136298e-02j,  2.77478656e-02-7.83409869e-03j,\n",
              "         9.29703820e-02+8.62355851e-03j, -5.83341793e-03-1.52700432e-02j,\n",
              "         1.56979143e-03-2.37514847e-02j],\n",
              "       [-2.81350937e-02-9.52136298e-02j,  2.77478656e-02+7.83409869e-03j,\n",
              "         9.29703820e-02-8.62355851e-03j, -5.83341793e-03+1.52700432e-02j,\n",
              "         1.56979143e-03+2.37514847e-02j],\n",
              "       [ 7.65538842e-02-2.27827520e-02j, -9.56798111e-02+9.60196020e-03j,\n",
              "        -3.51617246e-02-9.82319933e-02j, -2.12730992e-03+8.24342222e-03j,\n",
              "        -3.21859691e-03+1.04524451e-02j],\n",
              "       [ 7.65538842e-02+2.27827520e-02j, -9.56798111e-02-9.60196020e-03j,\n",
              "        -3.51617246e-02+9.82319933e-02j, -2.12730992e-03-8.24342222e-03j,\n",
              "        -3.21859691e-03-1.04524451e-02j],\n",
              "       [-1.46568647e-02+8.31367039e-02j,  1.26637998e-01+1.90237506e-04j,\n",
              "        -5.46291094e-02-4.46687899e-02j,  7.66778688e-03+1.17998766e-02j,\n",
              "         6.02151435e-02+7.56934444e-03j],\n",
              "       [-1.46568647e-02-8.31367039e-02j,  1.26637998e-01-1.90237506e-04j,\n",
              "        -5.46291094e-02+4.46687899e-02j,  7.66778688e-03-1.17998766e-02j,\n",
              "         6.02151435e-02-7.56934444e-03j],\n",
              "       [ 2.86651259e-02+0.00000000e+00j,  1.94602765e-02+0.00000000e+00j,\n",
              "        -3.89430894e-02+0.00000000e+00j, -1.07442371e-02+0.00000000e+00j,\n",
              "        -2.79362136e-02+0.00000000e+00j],\n",
              "       [ 4.22452827e-03-1.63704516e-02j, -4.69714843e-02-6.43445786e-02j,\n",
              "         1.09455452e-01-7.60286365e-02j, -1.07788737e-03-5.34994912e-03j,\n",
              "        -7.11703654e-03+4.25065542e-03j],\n",
              "       [ 4.22452827e-03+1.63704516e-02j, -4.69714843e-02+6.43445786e-02j,\n",
              "         1.09455452e-01+7.60286365e-02j, -1.07788737e-03+5.34994912e-03j,\n",
              "        -7.11703654e-03-4.25065542e-03j],\n",
              "       [ 3.33031016e-02+0.00000000e+00j,  1.23347242e-01+0.00000000e+00j,\n",
              "        -1.20832190e-01+0.00000000e+00j,  1.45447550e-03+0.00000000e+00j,\n",
              "         4.09514689e-02+0.00000000e+00j],\n",
              "       [-8.38241450e-02+3.89298519e-02j,  1.51221305e-01-2.18458914e-02j,\n",
              "        -1.10780433e-01+4.61165768e-04j, -8.65947985e-03-5.45754324e-03j,\n",
              "        -4.66334435e-02-1.52029294e-02j],\n",
              "       [-8.38241450e-02-3.89298519e-02j,  1.51221305e-01+2.18458914e-02j,\n",
              "        -1.10780433e-01-4.61165768e-04j, -8.65947985e-03+5.45754324e-03j,\n",
              "        -4.66334435e-02+1.52029294e-02j],\n",
              "       [-7.25730916e-02-2.19961314e-02j, -2.09227853e-02+2.19537716e-01j,\n",
              "        -6.72148872e-03+4.49871816e-02j,  2.39927273e-04-1.03875865e-02j,\n",
              "        -2.67354280e-02-3.89938091e-03j],\n",
              "       [-7.25730916e-02+2.19961314e-02j, -2.09227853e-02-2.19537716e-01j,\n",
              "        -6.72148872e-03-4.49871816e-02j,  2.39927273e-04+1.03875865e-02j,\n",
              "        -2.67354280e-02+3.89938091e-03j],\n",
              "       [-1.05170354e-02-1.04512246e-01j, -1.46669881e-02+6.58670710e-02j,\n",
              "        -1.04385077e-01+7.60710552e-02j,  1.19491908e-02-1.26758316e-03j,\n",
              "         7.83614128e-03-7.81487041e-03j],\n",
              "       [-1.05170354e-02+1.04512246e-01j, -1.46669881e-02-6.58670710e-02j,\n",
              "        -1.04385077e-01-7.60710552e-02j,  1.19491908e-02+1.26758316e-03j,\n",
              "         7.83614128e-03+7.81487041e-03j],\n",
              "       [ 4.78020898e-02-4.07582435e-03j, -1.78844300e-02-7.54447182e-02j,\n",
              "         1.69464438e-02+8.30758512e-02j,  4.07333791e-03-6.78035866e-03j,\n",
              "        -2.95438406e-02-1.73875181e-02j],\n",
              "       [ 4.78020898e-02+4.07582435e-03j, -1.78844300e-02+7.54447182e-02j,\n",
              "         1.69464438e-02-8.30758512e-02j,  4.07333791e-03+6.78035866e-03j,\n",
              "        -2.95438406e-02+1.73875181e-02j],\n",
              "       [-1.98357775e-02-7.49078632e-02j, -8.57310267e-02-1.31846841e-01j,\n",
              "         5.87068429e-03-1.65438295e-02j,  3.58427471e-03+3.68793850e-03j,\n",
              "         3.16276286e-02-1.24590396e-02j],\n",
              "       [-1.98357775e-02+7.49078632e-02j, -8.57310267e-02+1.31846841e-01j,\n",
              "         5.87068429e-03+1.65438295e-02j,  3.58427471e-03-3.68793850e-03j,\n",
              "         3.16276286e-02+1.24590396e-02j],\n",
              "       [-9.05695373e-02+0.00000000e+00j, -3.71292172e-03+0.00000000e+00j,\n",
              "        -7.40110341e-02+0.00000000e+00j, -1.64559097e-02+0.00000000e+00j,\n",
              "        -2.21636491e-02+0.00000000e+00j],\n",
              "       [ 8.55272437e-03-7.36627334e-03j,  1.70493794e-02-5.49188127e-02j,\n",
              "        -2.38566924e-02-4.36111125e-03j,  3.42792127e-03-8.82818078e-03j,\n",
              "        -4.94383633e-03-1.88853299e-02j],\n",
              "       [ 8.55272437e-03+7.36627334e-03j,  1.70493794e-02+5.49188127e-02j,\n",
              "        -2.38566924e-02+4.36111125e-03j,  3.42792127e-03+8.82818078e-03j,\n",
              "        -4.94383633e-03+1.88853299e-02j],\n",
              "       [-7.71308839e-02-7.66673162e-02j, -1.60143664e-01-9.09080953e-02j,\n",
              "         6.46304084e-03+4.32120517e-03j,  2.09160653e-03+3.53869820e-03j,\n",
              "         2.06188135e-02-9.77642537e-03j],\n",
              "       [-7.71308839e-02+7.66673162e-02j, -1.60143664e-01+9.09080953e-02j,\n",
              "         6.46304084e-03-4.32120517e-03j,  2.09160653e-03-3.53869820e-03j,\n",
              "         2.06188135e-02+9.77642537e-03j],\n",
              "       [ 3.06911786e-02-8.80915842e-02j, -1.37084724e-01+4.96572970e-02j,\n",
              "         1.68376975e-02-3.21972245e-02j,  9.75027309e-04+2.54460039e-04j,\n",
              "         1.03547594e-02+3.24705884e-02j],\n",
              "       [ 3.06911786e-02+8.80915842e-02j, -1.37084724e-01-4.96572970e-02j,\n",
              "         1.68376975e-02+3.21972245e-02j,  9.75027309e-04-2.54460039e-04j,\n",
              "         1.03547594e-02-3.24705884e-02j],\n",
              "       [ 5.34037114e-02-7.86833594e-02j,  1.30697102e-02+6.04205948e-02j,\n",
              "        -1.10168081e-01-1.36327107e-03j,  5.93412601e-03-1.04913298e-03j,\n",
              "         7.51639280e-06-1.63685703e-02j],\n",
              "       [ 5.34037114e-02+7.86833594e-02j,  1.30697102e-02-6.04205948e-02j,\n",
              "        -1.10168081e-01+1.36327107e-03j,  5.93412601e-03+1.04913298e-03j,\n",
              "         7.51639280e-06+1.63685703e-02j],\n",
              "       [-4.57193870e-02+0.00000000e+00j,  3.19308051e-02+0.00000000e+00j,\n",
              "        -1.70182556e-02+0.00000000e+00j, -9.52578941e-03+0.00000000e+00j,\n",
              "        -2.13997325e-02+0.00000000e+00j],\n",
              "       [ 7.89057130e-02+0.00000000e+00j, -7.18059688e-02+0.00000000e+00j,\n",
              "         1.18931177e-01+0.00000000e+00j,  9.63627068e-03+0.00000000e+00j,\n",
              "         1.52525205e-02+0.00000000e+00j],\n",
              "       [-1.12094262e-02-3.23159292e-02j,  1.33580012e-02+4.19276924e-02j,\n",
              "        -3.94271334e-03+3.37250566e-02j, -4.20948854e-03-1.36150011e-03j,\n",
              "        -6.61841878e-02+9.12014565e-04j],\n",
              "       [-1.12094262e-02+3.23159292e-02j,  1.33580012e-02-4.19276924e-02j,\n",
              "        -3.94271334e-03-3.37250566e-02j, -4.20948854e-03+1.36150011e-03j,\n",
              "        -6.61841878e-02-9.12014565e-04j],\n",
              "       [ 2.16603349e-02+0.00000000e+00j, -1.57371372e-01+0.00000000e+00j,\n",
              "        -3.37966595e-02+0.00000000e+00j,  8.96560554e-05+0.00000000e+00j,\n",
              "         2.84702432e-02+0.00000000e+00j],\n",
              "       [ 8.43228282e-02+0.00000000e+00j,  3.32663165e-02+0.00000000e+00j,\n",
              "         5.91370640e-02+0.00000000e+00j, -5.57214375e-03+0.00000000e+00j,\n",
              "        -7.31756648e-03+0.00000000e+00j],\n",
              "       [-5.52125033e-02+0.00000000e+00j, -4.02770901e-02+0.00000000e+00j,\n",
              "        -6.54358358e-02+0.00000000e+00j, -4.92590600e-04+0.00000000e+00j,\n",
              "         1.93527534e-02+0.00000000e+00j],\n",
              "       [ 2.88264480e-02+0.00000000e+00j, -1.74623868e-01+0.00000000e+00j,\n",
              "        -1.30220596e-02+0.00000000e+00j, -4.59702962e-03+0.00000000e+00j,\n",
              "        -9.35049226e-03+0.00000000e+00j]])"
            ]
          },
          "metadata": {},
          "execution_count": 176
        }
      ]
    },
    {
      "cell_type": "code",
      "source": [
        "# initialize T\n",
        "\n",
        "#step 0 (using 1,...,K labels from above, turn X matrix into K submatrices, where each submatrix X_1,...,X_K corresponds to a label, and note each has G columns but varying number of columns)\n",
        "CREATE K EMPTY ARRAYS, AND LOOP THROUGH CLUSTER_LABELS AND APPEND EACH ROW VECTOR FROM X TO THE X_i MATRIX ITS LABEL CORRESPONDS TO\n",
        "LABEL THESE MATRIXES X_1,...,X_K AND LOOP THROUGH 1 TO K, EACH TIME PERFORMING THE BELOW STEPS\n",
        "\n",
        "\n",
        "\n",
        "initialize K arrays within a single larger array\n",
        "\n",
        "T=np.zeros((G,K,L))\n",
        "\n",
        "for i in range(K):\n",
        "  XT=X\n",
        "  for j in range(C):\n",
        "    if cluster_labels[j]!=i:\n",
        "      np.delete(XT,j,0) #after looping through C, XT should only contain rows with label i\n",
        "\n",
        "\n",
        "\n",
        "\n",
        "\n",
        "for i in range(C):\n",
        "  for j in range(K):\n",
        "    if cluster_labels[i]==j:\n",
        "      append row i in X to matrix j\n",
        "\n",
        "\n",
        "#step 1 (form K affinity matrices A_1,..., A_K, where A_i = (X_i^transpose)*X_i is a GxG matrix)\n",
        "BESIDES KEEPING TRACK OF X_i VS X_j SHOULD BE ABLE TO JUST COPY ABOVE CODE, \n",
        "BUT ALSO MAKE SURE TO SWAP TRANSPOSE ORDER SO ITS NOW GxG AFFINITY MATRIX, AND SWAP WHEREVER ELSE NECCESARY, IE NOW K-MEANS ON COLUMNS AND NORMALIZE COLUMNS, ETC...\n",
        "THE FINAL RESULT SHOULD BE K SEPERATE GxL CLASSIFICATION MATRICES, YIELDING THE DESIRED GxKxL TENSOR\n",
        "\n",
        "#now repeat steps 2-7 from above (but now using L clusters/eigenvectors), to obtain K seperate GxL classification matrices, this gives us the GxKxL classification tensor that we want\n",
        "\n",
        "\n",
        "# this process gives us T_0"
      ],
      "metadata": {
        "id": "x6bGjFp6xepy"
      },
      "execution_count": null,
      "outputs": []
    },
    {
      "cell_type": "markdown",
      "source": [
        "Initialize theta paramaters"
      ],
      "metadata": {
        "id": "-AO8mGGOcwDk"
      }
    },
    {
      "cell_type": "code",
      "source": [
        "# using S_0 and T_0 and X, we can directly calculate rho_0, pi_0, and mu_0\n",
        "\n",
        "rho: use yunpeng line (12) and S_0\n",
        "pi: use yunpeng line (13) and T_0\n",
        "mu: use yunpeng line (14) and S_0, T_0, X "
      ],
      "metadata": {
        "id": "50X4L91Ucyk7"
      },
      "execution_count": null,
      "outputs": []
    },
    {
      "cell_type": "markdown",
      "source": [
        "Iterative maximization scheme"
      ],
      "metadata": {
        "id": "ITNRNSiPcdH8"
      }
    },
    {
      "cell_type": "code",
      "source": [
        "# start with S_0, T_0, rho_0, pi_0, mu_0\n",
        "\n",
        "# loop through steps 1 and 2\n",
        "\n",
        "\n",
        "#NOTE: be careful with regard to dropouts/blowups, use appropriate numerical techniques\n",
        "\n",
        "\n",
        "# step 1: update S, rho, mu\n",
        "fix previous values of S, T, rho, pi, mu \n",
        "calculate updated S # E step (define function) \n",
        "USE YUNPENG LINE (9)\n",
        "calculate updated rho, mu # M step (define function)\n",
        "USE YUNPENG LINES (12 & 14)\n",
        "\n",
        "# step 2: update T, pi, mu\n",
        "fix previous values of S, T, rho, pi, mu \n",
        "calculate updated T # E step (define function)\n",
        "USE YUNPENG LINE (10)\n",
        "calculate updated pi, mu # M step (define function)\n",
        "USE YUNPENG LINES (13 & 14)\n",
        "\n",
        "# stop loop if convergence criteria met, ie: S and T both no longer changing values to significant degree\n",
        "IE: T_(M+1)-T_(M) < epsilon, and similar for S_(M)"
      ],
      "metadata": {
        "id": "x0NqfJYfZ2AN"
      },
      "execution_count": null,
      "outputs": []
    },
    {
      "cell_type": "code",
      "source": [
        ""
      ],
      "metadata": {
        "id": "cXlixFjkVwiO"
      },
      "execution_count": null,
      "outputs": []
    },
    {
      "cell_type": "code",
      "source": [
        "# convert S and T into labels Z and W\n",
        "# check Z (cell-type) labels against true labels from metadata\n",
        "# check high expression gene-community against known biomarkers for associated cell-type"
      ],
      "metadata": {
        "id": "JHWsWooVaiIm"
      },
      "execution_count": null,
      "outputs": []
    },
    {
      "cell_type": "code",
      "source": [
        "# figure out way to visualize Z and W labels"
      ],
      "metadata": {
        "id": "X_Z26Zcqa5fl"
      },
      "execution_count": null,
      "outputs": []
    }
  ]
}